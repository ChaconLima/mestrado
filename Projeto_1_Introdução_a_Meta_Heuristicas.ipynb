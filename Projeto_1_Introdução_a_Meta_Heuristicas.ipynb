{
  "nbformat": 4,
  "nbformat_minor": 0,
  "metadata": {
    "colab": {
      "provenance": [],
      "authorship_tag": "ABX9TyOIofr91l6OSUHJAE/3W84R",
      "include_colab_link": true
    },
    "kernelspec": {
      "name": "python3",
      "display_name": "Python 3"
    },
    "language_info": {
      "name": "python"
    }
  },
  "cells": [
    {
      "cell_type": "markdown",
      "metadata": {
        "id": "view-in-github",
        "colab_type": "text"
      },
      "source": [
        "<a href=\"https://colab.research.google.com/github/ChaconLima/mestrado/blob/introdu%C3%A7%C3%A3o-a-meta-heuristica/Projeto_1_Introdu%C3%A7%C3%A3o_a_Meta_Heuristicas.ipynb\" target=\"_parent\"><img src=\"https://colab.research.google.com/assets/colab-badge.svg\" alt=\"Open In Colab\"/></a>"
      ]
    },
    {
      "cell_type": "markdown",
      "source": [
        "# <b>Introdução à Meta-Heurística - Projeto 1</b>\n",
        "\n",
        "### Descrição do Problema:\n",
        "A Voe Bem precisa decidir a quantidade de querosene para combustível de seus jatos que adquire de 3 companhias vendedoras. Seus jatos são regularmente abastecidos nos aeroportos de Congonhas, Viracopos, Galeão e Pampulha. As companhias vendedoras poderão fornecer no próximo mês as seguintes quantidades de combustível:\n",
        "\n",
        "<br>\n",
        "\n",
        "| Companhia | Galões [litros] |\n",
        "| ------------- | ------------- |\n",
        "| Companhia 1  | 250.000 |\n",
        "| Companhia 2  | 500.000 |\n",
        "| Companhia 1| 600.000 |\n",
        "\n",
        "Total ofertado é de 1350.000 [L]\n",
        "\n",
        "<br>\n",
        "\n",
        "As necessidade em cada aeroporto é dada por:\n",
        "\n",
        "<br>\n",
        "\n",
        "| Aeroporto | Galões [litros] |\n",
        "| ------------- | ------------- |\n",
        "| Congonhas  | 100.000 |\n",
        "| Viracopos  |200.000 |\n",
        "| Galeão | 300.000 |\n",
        "| Pampulha | 400.000 |\n",
        "\n",
        "Total demandado é de 1000.000 [L]\n",
        "\n",
        "<br>\n",
        "\n",
        "O custo por galão, incluindo o preço do transporte (em R$/Litro), de cada companhia para cada aeroporto é dado por:\n",
        "\n",
        "<br>\n",
        "\n",
        "| Aeroporto | Companhia 1 |Companhia 2 |Companhia 3 |\n",
        "| ------------- | ------------- | ------------- | ------------- |\n",
        "| Congonhas  |12|9|10| \n",
        "| Viracopos  |10|11|14\n",
        "| Galeão |  8 |11|13|\n",
        "| Pampulha |  11|13|9|\n",
        "\n",
        "Formule o problema de programação linear e obtenha sua solução"
      ],
      "metadata": {
        "id": "b0rT2vpfU54T"
      }
    },
    {
      "cell_type": "markdown",
      "source": [
        "# <b> Modelagem Matemático para o Problema </b>\n",
        "\n",
        "<!-- min z = sum from i = 1 to m sum from j = 1 to n c_{i,j} x_{i,j} ~~~~(1,0)newline\n",
        "s.a.:~sum from j=1 to n x_{i,j} = f_{i} ~~forall i = {1,...,m} ~~~~(1.1)newline\n",
        "sum from i = 1 to m x_{i,j} = d_{j} ~ forall j = {1,...,n} ~~~~(1.2)newline\n",
        "x_{i,j}>= 0 ~forall i={1,...,m} ~ j={1,...,n} ~~(1.3)newline -->\n",
        "\n",
        "### Variáveis de Decisão:\n",
        "\n",
        "  - <i>X_i,j</i>-> Quantidade de produtos transportado do fornecedor <i>i</i> para suprir a demanda do cliente <i>j</i>;\n",
        "\n",
        "### Modelagem Matemática: \n",
        "\n",
        "![Captura de tela de 2023-04-11 14-43-59.png](data:image/png;base64,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)\n",
        "\n",
        "Onde:\n",
        "- <i>i</i> -> Número de fornecedores,<i> i = 1 ... m</i>;\n",
        "- <i>j</i> -> Número de clientes,<i> j = 1 ... n</i>;\n",
        "- <i>C_i,j</i> -> Custo de transporte para trasladar o produto do fornecedor <i>i</i> para suprir a demanda do cliente  <i>j</i>;\n",
        "- <i>f_i</i> -> Quantidade de produtos ofertados pelo fornecedor <i>i</i>;\n",
        "- <i>d_i</i> -> Quantidade de produtos demandado pelo cliente <i>j</i>;\n",
        "- Equação 1.0 -> Representa a função objetivo de minimização, tendo a multiplicação das variáveis de decisão <i>X_i,j</i> pelo custo <i>C_i,j</i>;\n",
        "- Equação 1.1 -> Restrição das capacidades dos fornecedores, sendo que, o somatório dos clientes <i>j</i>, tem que ser igual à oferta do fornecedor <i>i</i>;\n",
        "- Equação 1.2 -> Restrição das demandas dos clientes, sendo que, o somatório das ofertas dos fornecedores <i>i</i>, tem que ser igual à demanda do cliente<i> j</i>; e\n",
        "- Equação 1.3 -> restrição de não negatividade das variáveis de decisão  <i>X_i,j</i>;\n",
        "\n",
        "\n",
        "\n"
      ],
      "metadata": {
        "id": "7t4Tg0z6bCgm"
      }
    },
    {
      "cell_type": "markdown",
      "source": [
        "# <b> Implementação </b>\n",
        "\n",
        "Será implementado a modelagem matemática em python, utilizando a library Google OR-Tools.\n",
        "\n",
        "Instalação do conforme a documentação: https://developers.google.com/optimization/install?hl=pt-br"
      ],
      "metadata": {
        "id": "-GM_y3UJUNbi"
      }
    },
    {
      "cell_type": "code",
      "execution_count": 60,
      "metadata": {
        "colab": {
          "base_uri": "https://localhost:8080/",
          "height": 0
        },
        "id": "SE31oLBRQLIA",
        "outputId": "b83b00c9-bcc6-457b-d744-6b6605d7d36a"
      },
      "outputs": [
        {
          "output_type": "stream",
          "name": "stdout",
          "text": [
            "Looking in indexes: https://pypi.org/simple, https://us-python.pkg.dev/colab-wheels/public/simple/\n",
            "Requirement already satisfied: ortools in /usr/local/lib/python3.9/dist-packages (9.6.2534)\n",
            "Requirement already satisfied: absl-py>=0.13 in /usr/local/lib/python3.9/dist-packages (from ortools) (1.4.0)\n",
            "Requirement already satisfied: protobuf>=4.21.12 in /usr/local/lib/python3.9/dist-packages (from ortools) (4.22.1)\n",
            "Requirement already satisfied: numpy>=1.13.3 in /usr/local/lib/python3.9/dist-packages (from ortools) (1.22.4)\n",
            "Requirement already satisfied: scipy>=1.10.0 in /usr/local/lib/python3.9/dist-packages (from ortools) (1.10.1)\n"
          ]
        }
      ],
      "source": [
        "!pip install ortools"
      ]
    },
    {
      "cell_type": "code",
      "source": [
        "#################################################################################################\n",
        "# library Transport Solver Problem - Copyright 2023 Mateus Chacon\n",
        "\n",
        "# Este programa é um software livre, você pode redistribuí-lo e/ou modificá-lo \n",
        "# sob os termos da Licença Pública Geral GNU como publicada pela Fundação do Software Livre (FSF), \n",
        "# na versão 3 da Licença, ou (a seu critério) qualquer versão posterior.\n",
        "\n",
        "# Este programa é distribuído na esperança de que possa ser útil, mas SEM NENHUMA GARANTIA, \n",
        "# e sem uma garantia implícita de ADEQUAÇÃO a qualquer MERCADO ou APLICAÇÃO EM PARTICULAR. \n",
        "\n",
        "# Veja a Licença Pública Geral GNU para mais detalhes <http://www.gnu.org/licenses/>\n",
        "#################################################################################################\n",
        "\n",
        "from ortools.linear_solver import pywraplp\n",
        "\n",
        "class ProblemInformation:\n",
        "  def __init__(self, costs=[], offers=[], demands=[]):\n",
        "        self.costs = costs\n",
        "        self.offers = offers\n",
        "        self.demands = demands\n",
        "        self.supplierNames = []\n",
        "        self.customerNames = []\n",
        "        self.namesDefault()\n",
        "\n",
        "  def namesDefault(self):\n",
        "    for i in range(self.getSupplierSize()):\n",
        "      self.supplierNames.append(\"Fabrica \"+str(i+1))\n",
        "    for i in range(self.getCustomerSize()):\n",
        "      self.customerNames.append(\"Mercado \"+str(i+1))\n",
        "\n",
        "  def getSupplierSize(self):\n",
        "    return len(self.offers)\n",
        "\n",
        "  def getCustomerSize(self):\n",
        "    return len(self.demands);\n",
        "\n",
        "  def addSupplierNames(self, names = []):\n",
        "    self.supplierNames = names\n",
        "  \n",
        "  def addCustomerNames(self, names = []):\n",
        "    self.customerNames = names\n",
        "  \n",
        "  def toString(self):\n",
        "    print(\"Custos: \", self.costs)\n",
        "    print(\"Ofertas: \", self.supplierNames, self.offers)\n",
        "    print(\"Demandas: \", self.customerNames, self.demands)\n",
        "\n",
        "class TransportSolverProblem:\n",
        "  \n",
        "  def __init__(self, data=ProblemInformation):\n",
        "    self.data = data\n",
        "    self.solver = pywraplp.Solver('Modelo de Transporte', pywraplp.Solver.GLOP_LINEAR_PROGRAMMING)\n",
        "    self.x = {}\n",
        "    \n",
        "  def balancingSupplyAndDemand(self):\n",
        "\n",
        "    ofertsT = 0\n",
        "    for i in range(self.data.getSupplierSize()):\n",
        "      ofertsT += self.data.offers[i]\n",
        "\n",
        "    demandsT = 0\n",
        "    for j in range(self.data.getCustomerSize()):\n",
        "      demandsT += self.data.demands[j]\n",
        "\n",
        "    if(ofertsT > demandsT):\n",
        "      print(\"Oferta total é maior que a demanda total, então será criado um cliente fantasma para ficar com o excedente\")\n",
        "      self.data.demands.append(ofertsT-demandsT)\n",
        "      self.data.customerNames.append(\"Cliente Fantasma\")\n",
        "      ghostClient = 0\n",
        "      for i in range(self.data.getSupplierSize()):\n",
        "        self.data.costs[i].append(ghostClient)\n",
        "      \n",
        "    elif(demandsT > ofertsT):\n",
        "      print(\"Demanda total é maior que a oferta total, então será criado um fornecedor fantasma para ficar com o faltante\")\n",
        "      self.data.offers.append(demandsT-ofertsT)\n",
        "      self.data.supplierNames.append(\"Fornecedor Fantasma\")\n",
        "      ghostSupplier = []\n",
        "      for j in range(self.data.getCustomerSize()):\n",
        "        ghostSupplier.append(0)\n",
        "      self.data.costs.append(ghostSupplier)\n",
        "\n",
        "    elif(demandsT == ofertsT):\n",
        "      print(\"Modelo balanceado\")\n",
        "\n",
        "  def createsDecisionVariable(self):\n",
        "    for i in range(self.data.getSupplierSize()):\n",
        "      for j in range(self.data.getCustomerSize()):\n",
        "        self.x[i,j] = self.solver.NumVar(0, self.solver.infinity(), '')\n",
        "\n",
        "  def createsObjectiveFunction(self):\n",
        "    objective_terms = []\n",
        "    for i in range(self.data.getSupplierSize()):\n",
        "      for j in range(self.data.getCustomerSize()):\n",
        "        objective_terms.append(self.data.costs[i][j] * self.x[i, j])\n",
        "    self.solver.Minimize(self.solver.Sum(objective_terms))\n",
        "  \n",
        "  def createsRestrictionsSuppliers(self):\n",
        "    for i in range(self.data.getSupplierSize()):\n",
        "      self.solver.Add(self.solver.Sum([self.x[i, j] for j in range(self.data.getCustomerSize())]) == self.data.offers[i],name='RFabricas '+str(i))\n",
        "\n",
        "  def createsRestrictionsCustomers(self):\n",
        "    for j in range(self.data.getCustomerSize()):\n",
        "      self.solver.Add(self.solver.Sum([self.x[i, j] for i in range(self.data.getSupplierSize())]) == self.data.demands[j],name='RMercado '+str(j))\n",
        "\n",
        "  def generateReport(self):\n",
        "      print('\\nCusto total = ', self.solver.Objective().Value(), '\\n')\n",
        "      for i in range(self.data.getSupplierSize()):\n",
        "        for j in range(self.data.getCustomerSize()):\n",
        "            # Test if x[i,j] is 1 (with tolerance for floating point arithmetic).\n",
        "            if self.x[i, j].solution_value() > 0.01:\n",
        "              print('Fluxo do(a) '+self.data.supplierNames[i]+' para o(a) '+self.data.customerNames[j]+':\\tFluxo = % 8.2f, \\tCusto = %.2f' % \n",
        "                    (self.x[i, j].solution_value(), self.data.costs[i][j]))\n",
        "\n",
        "  def execute(self):\n",
        "    self.balancingSupplyAndDemand()\n",
        "    self.createsDecisionVariable()\n",
        "    self.createsObjectiveFunction()\n",
        "    self.createsRestrictionsCustomers()\n",
        "    self.createsRestrictionsSuppliers()\n",
        "    status = self.solver.Solve()\n",
        "\n",
        "    if status == pywraplp.Solver.OPTIMAL or status == pywraplp.Solver.FEASIBLE:\n",
        "      self.generateReport()\n",
        "    else:\n",
        "      print(\"Erro na execução do Solver\")\n"
      ],
      "metadata": {
        "id": "HcLkQHZ9Ul-w"
      },
      "execution_count": 61,
      "outputs": []
    },
    {
      "cell_type": "markdown",
      "source": [
        "# <b> Resultados da otimização do problema </b>\n",
        "\n",
        "### Utilização de uma interface para imputar os dados"
      ],
      "metadata": {
        "id": "ye5a7T-2boDS"
      }
    },
    {
      "cell_type": "code",
      "source": [
        "# Dados extraídos de uma interface. \n",
        "Custos = \"12,10,8,11;9,11,11,13;10,14,13,9\"#@param {type:\"string\"}\n",
        "Fornecedores = \"250000, 500000, 600000\"#@param {type:\"string\"}\n",
        "Demandas = \"100000, 200000, 300000, 400000\"#@param {type:\"string\"}\n",
        "\n",
        "Nomes_Fornecedores = \"Companhia 1, Companhia 2 , Companhia 3\"#@param {type:\"string\"}\n",
        "Nomes_Clientes = \"Congonhas,Viracopos,Gale\\xE3o,Pampulha\"#@param {type:\"string\"}\n",
        "\n",
        "def converterArrayStringInArrayFloat(stringList = []):\n",
        "  return [float(stringList[j]) for j in range(len(stringList))]\n",
        "\n",
        "costs = []\n",
        "line = Custos.split(';')\n",
        "for i in range(len(line)):\n",
        "  column = line[i].split(',')\n",
        "  costs.append(converterArrayStringInArrayFloat(column))\n",
        "\n",
        "line = Fornecedores.split(',')\n",
        "f = converterArrayStringInArrayFloat(line)\n",
        "\n",
        "line = Demandas.split(',')\n",
        "d = converterArrayStringInArrayFloat(line)\n",
        "\n",
        "f_n = Nomes_Fornecedores.split(',')\n",
        "d_n = Nomes_Clientes.split(',')\n",
        "\n",
        "data = ProblemInformation(costs,f,d)\n",
        "data.addCustomerNames(d_n)\n",
        "data.addSupplierNames(f_n)\n",
        "\n",
        "solver = TransportSolverProblem(data)\n",
        "solver.execute()\n"
      ],
      "metadata": {
        "colab": {
          "base_uri": "https://localhost:8080/",
          "height": 0
        },
        "cellView": "form",
        "id": "8JsD29odVZmc",
        "outputId": "4b9ef5b3-b9f3-4ca9-8797-858487f8846a"
      },
      "execution_count": 66,
      "outputs": [
        {
          "output_type": "stream",
          "name": "stdout",
          "text": [
            "Oferta total é maior que a demanda total, então será criado um cliente fantasma para ficar com o excedente\n",
            "\n",
            "Custo total =  9250000.0 \n",
            "\n",
            "Fluxo do(a) Companhia 1 para o(a) Galeão:\tFluxo =  250000.00, \tCusto = 8.00\n",
            "Fluxo do(a)  Companhia 2  para o(a) Congonhas:\tFluxo =  100000.00, \tCusto = 9.00\n",
            "Fluxo do(a)  Companhia 2  para o(a) Viracopos:\tFluxo =  200000.00, \tCusto = 11.00\n",
            "Fluxo do(a)  Companhia 2  para o(a) Galeão:\tFluxo =  50000.00, \tCusto = 11.00\n",
            "Fluxo do(a)  Companhia 2  para o(a) Cliente Fantasma:\tFluxo =  150000.00, \tCusto = 0.00\n",
            "Fluxo do(a)  Companhia 3 para o(a) Pampulha:\tFluxo =  400000.00, \tCusto = 9.00\n",
            "Fluxo do(a)  Companhia 3 para o(a) Cliente Fantasma:\tFluxo =  200000.00, \tCusto = 0.00\n"
          ]
        }
      ]
    },
    {
      "cell_type": "markdown",
      "source": [
        "### Utilização diretamente no código para imputar os dados"
      ],
      "metadata": {
        "id": "4fQ4gN6QcAEi"
      }
    },
    {
      "cell_type": "code",
      "source": [
        "costs = [[12,10,8,11],[9,11,11,13],[10,14,13,9]]\n",
        "f = [250000, 500000, 600000]\n",
        "d = [100000, 200000, 300000, 400000]\n",
        "f_n = [\"Companhia 1\",\"Companhia 2\",\"Companhia 3\"]\n",
        "d_n = [\"Congonhas\",\"Viracopos\",\"Galeão\",\"Pampulha\"]\n",
        "\n",
        "data = ProblemInformation(costs,f,d)\n",
        "data.addCustomerNames(d_n)\n",
        "data.addSupplierNames(f_n)\n",
        "\n",
        "solver = TransportSolverProblem(data)\n",
        "solver.execute()"
      ],
      "metadata": {
        "colab": {
          "base_uri": "https://localhost:8080/",
          "height": 0
        },
        "id": "s8aQCE5B568g",
        "outputId": "3d45ec22-3311-467a-e0c4-f5e0cd2fde41"
      },
      "execution_count": 67,
      "outputs": [
        {
          "output_type": "stream",
          "name": "stdout",
          "text": [
            "Oferta total é maior que a demanda total, então será criado um cliente fantasma para ficar com o excedente\n",
            "\n",
            "Custo total =  9250000.0 \n",
            "\n",
            "Fluxo do(a) Companhia 1 para o(a) Galeão:\tFluxo =  250000.00, \tCusto = 8.00\n",
            "Fluxo do(a) Companhia 2 para o(a) Congonhas:\tFluxo =  100000.00, \tCusto = 9.00\n",
            "Fluxo do(a) Companhia 2 para o(a) Viracopos:\tFluxo =  200000.00, \tCusto = 11.00\n",
            "Fluxo do(a) Companhia 2 para o(a) Galeão:\tFluxo =  50000.00, \tCusto = 11.00\n",
            "Fluxo do(a) Companhia 2 para o(a) Cliente Fantasma:\tFluxo =  150000.00, \tCusto = 0.00\n",
            "Fluxo do(a) Companhia 3 para o(a) Pampulha:\tFluxo =  400000.00, \tCusto = 9.00\n",
            "Fluxo do(a) Companhia 3 para o(a) Cliente Fantasma:\tFluxo =  200000.00, \tCusto = 0.00\n"
          ]
        }
      ]
    },
    {
      "cell_type": "markdown",
      "source": [
        "# <b> Outros Exemplos de utilização da library Criada </b>\n",
        "\n"
      ],
      "metadata": {
        "id": "7aC2Akt_V8XJ"
      }
    },
    {
      "cell_type": "code",
      "source": [
        "# Dados do Exemplo da aula PO240-A25:\n",
        "costs = [[25, 20, 30],[30, 25, 25],[20, 15, 23]]\n",
        "f = [2000, 3000, 1500]\n",
        "d = [2000, 2000, 1000]\n",
        "\n",
        "data = ProblemInformation(costs,f,d)\n",
        "solver = TransportSolverProblem(data)\n",
        "solver.execute()"
      ],
      "metadata": {
        "colab": {
          "base_uri": "https://localhost:8080/",
          "height": 0
        },
        "id": "-MjuF2_55AKL",
        "outputId": "1864df75-0056-463c-be75-1e8baabc17a4"
      },
      "execution_count": 68,
      "outputs": [
        {
          "output_type": "stream",
          "name": "stdout",
          "text": [
            "Oferta total é maior que a demanda total, então será criado um cliente fantasma para ficar com o excedente\n",
            "\n",
            "Custo total =  110000.0 \n",
            "\n",
            "Fluxo do(a) Fabrica 1 para o(a) Mercado 2:\tFluxo =  2000.00, \tCusto = 20.00\n",
            "Fluxo do(a) Fabrica 2 para o(a) Mercado 1:\tFluxo =   500.00, \tCusto = 30.00\n",
            "Fluxo do(a) Fabrica 2 para o(a) Mercado 3:\tFluxo =  1000.00, \tCusto = 25.00\n",
            "Fluxo do(a) Fabrica 2 para o(a) Cliente Fantasma:\tFluxo =  1500.00, \tCusto = 0.00\n",
            "Fluxo do(a) Fabrica 3 para o(a) Mercado 1:\tFluxo =  1500.00, \tCusto = 20.00\n"
          ]
        }
      ]
    },
    {
      "cell_type": "code",
      "source": [
        "# Dados do Exemplo da aula PO240-A25, alterados:\n",
        "costs = [[25, 20, 30],[30, 25, 25],[20, 15, 23]]\n",
        "d = [2000, 3000, 1500]\n",
        "f = [2000, 2000, 1000]\n",
        "\n",
        "data = ProblemInformation(costs,f,d)\n",
        "solver = TransportSolverProblem(data)\n",
        "solver.execute()"
      ],
      "metadata": {
        "colab": {
          "base_uri": "https://localhost:8080/",
          "height": 0
        },
        "id": "s4TzikpEUfJi",
        "outputId": "53f94d4c-fa1f-429c-e21b-bce8856a8a03"
      },
      "execution_count": 69,
      "outputs": [
        {
          "output_type": "stream",
          "name": "stdout",
          "text": [
            "Demanda total é maior que a oferta total, então será criado um fornecedor fantasma para ficar com o faltante\n",
            "\n",
            "Custo total =  107500.0 \n",
            "\n",
            "Fluxo do(a) Fabrica 1 para o(a) Mercado 2:\tFluxo =  2000.00, \tCusto = 20.00\n",
            "Fluxo do(a) Fabrica 2 para o(a) Mercado 1:\tFluxo =   500.00, \tCusto = 30.00\n",
            "Fluxo do(a) Fabrica 2 para o(a) Mercado 3:\tFluxo =  1500.00, \tCusto = 25.00\n",
            "Fluxo do(a) Fabrica 3 para o(a) Mercado 2:\tFluxo =  1000.00, \tCusto = 15.00\n",
            "Fluxo do(a) Fornecedor Fantasma para o(a) Mercado 1:\tFluxo =  1500.00, \tCusto = 0.00\n"
          ]
        }
      ]
    }
  ]
}