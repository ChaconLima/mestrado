{
  "nbformat": 4,
  "nbformat_minor": 0,
  "metadata": {
    "colab": {
      "provenance": [],
      "authorship_tag": "ABX9TyMGfApILHIxa4QA1SGJnTtq",
      "include_colab_link": true
    },
    "kernelspec": {
      "name": "python3",
      "display_name": "Python 3"
    },
    "language_info": {
      "name": "python"
    }
  },
  "cells": [
    {
      "cell_type": "markdown",
      "metadata": {
        "id": "view-in-github",
        "colab_type": "text"
      },
      "source": [
        "<a href=\"https://colab.research.google.com/github/ChaconLima/mestrado/blob/introdu%C3%A7%C3%A3o-a-pesquisa-operacional/lista1_po170_2023.ipynb\" target=\"_parent\"><img src=\"https://colab.research.google.com/assets/colab-badge.svg\" alt=\"Open In Colab\"/></a>"
      ]
    },
    {
      "cell_type": "code",
      "execution_count": 20,
      "metadata": {
        "id": "dEkBLiVGp7YL",
        "colab": {
          "base_uri": "https://localhost:8080/"
        },
        "outputId": "68bb7678-e788-4d48-c1d1-687bdbbf2df9"
      },
      "outputs": [
        {
          "output_type": "stream",
          "name": "stdout",
          "text": [
            "Looking in indexes: https://pypi.org/simple, https://us-python.pkg.dev/colab-wheels/public/simple/\n",
            "Requirement already satisfied: pulp in /usr/local/lib/python3.9/dist-packages (2.7.0)\n"
          ]
        }
      ],
      "source": [
        "# solver\n",
        "!pip install pulp\n",
        "\n",
        "#documentation - https://coin-or.github.io/pulp/index.html\n"
      ]
    },
    {
      "cell_type": "markdown",
      "source": [
        "#Exercício - 1\n",
        "A Cia. De Água e Esgoto de uma cidade possui 3 unidades de tratamento de esgotos, e\n",
        "cada uma delas está em um estágio de avanço tecnológico diferente. O estágio\n",
        "tecnológico faz com que custos, eficiências e capacidades sejam diferentes. A tabela a\n",
        "seguir, fornece os dados das unidades (U1, U2, U3).\n",
        "\n",
        "| Tabela | U1 | U2 | U3 |\n",
        "| ------------- | ------------- |------------- |------------- |\n",
        "| Custo de tratamento ($/ton)  | 5 | 6 | 4 |\n",
        "| Eficiência (%)  | 95,5 | 98,0 | 92,5 |\n",
        "| Capacidade de processamento (ton)| 100 | 150 | 150 |\n",
        "\n",
        "\n",
        "A Cia. precisa saber quanto de esgoto (em ton) deve ser encaminhado para cada unidade\n",
        "de tratamento de maneira a maximizar a eficiência total do tratamento. A meta do período\n",
        "do planejamento é tratar pelo menos 300 toneladas de esgoto, gastando no máximo\n",
        "$1.700. Quais as variáveis de decisão? Qual a função-objetivo? Quais as restrições do\n",
        "modelo?"
      ],
      "metadata": {
        "id": "STA3iLivvBuS"
      }
    },
    {
      "cell_type": "code",
      "source": [
        "# Import PuLP\n",
        "from pulp import *\n",
        "\n",
        "# maximization problem\n",
        "prob = LpProblem(\"Exercício 1\", LpMaximize)\n",
        "\n",
        "# decision variables\n",
        "x1 = LpVariable(\"quantidade de esgoto U1\", 0, None, LpInteger)\n",
        "x2 = LpVariable(\"quantidade de esgoto U2\", 0, None, LpInteger)\n",
        "x3 = LpVariable(\"quantidade de esgoto U3\", 0, None, LpInteger)\n",
        "\n",
        "# objective function\n",
        "prob += 0.955 * x1 + 0.98 * x2 + 0.925 * x3, \"maximizar a eficiência total do tratamento\"\n",
        "\n",
        "# restrictions\n",
        "prob += x1 + x2 + x3 >= 300, \"A meta de tratamento do período do planejamento\"\n",
        "prob += 5 * x1 + 6 * x2 + 4 * x3 <= 1700, \"Recurso disponivel em reais\"\n",
        "prob += x1 <= 100, \"Capacidade de processamento U1\" \n",
        "prob += x2 <= 150, \"Capacidade de processamento U2\"\n",
        "prob += x3 <= 90,  \"Capacidade de processamento U3\"\n",
        "\n",
        "prob.writeLP(\"exercicio_1.lp\")\n",
        "with open('exercicio_1.lp') as arquivo:\n",
        "    for line in arquivo:\n",
        "        print(line, end='')\n",
        "\n",
        "# The problem is solved using PuLP's choice of Solver\n",
        "prob.solve()\n",
        "\n",
        "print(\"\\nResultado\\nStatus:\", LpStatus[prob.status])\n",
        "\n",
        "for v in prob.variables():\n",
        "    if v.varValue>0:\n",
        "        print(v.name, \"=\", v.varValue, \"[ton]\")\n",
        "\n",
        "obj = value(prob.objective)\n",
        "print(\"Quantidade total tratado: {} [ton]\".format(round(obj,2)))"
      ],
      "metadata": {
        "colab": {
          "base_uri": "https://localhost:8080/"
        },
        "id": "T7y22Qv6xZOr",
        "outputId": "e8817488-3472-44b5-8519-3fac62d43ad5"
      },
      "execution_count": 21,
      "outputs": [
        {
          "output_type": "stream",
          "name": "stdout",
          "text": [
            "\\* Exercício_1 *\\\n",
            "Maximize\n",
            "maximizar_a_eficiência_total_do_tratamento: 0.955 quantidade_de_esgoto_U1\n",
            " + 0.98 quantidade_de_esgoto_U2 + 0.925 quantidade_de_esgoto_U3\n",
            "Subject To\n",
            "A_meta_de_tratamento_do_período_do_planejamento: quantidade_de_esgoto_U1\n",
            " + quantidade_de_esgoto_U2 + quantidade_de_esgoto_U3 >= 300\n",
            "Capacidade_de_processamento_U1: quantidade_de_esgoto_U1 <= 100\n",
            "Capacidade_de_processamento_U2: quantidade_de_esgoto_U2 <= 150\n",
            "Capacidade_de_processamento_U3: quantidade_de_esgoto_U3 <= 90\n",
            "Recurso_disponivel_em_reais: 5 quantidade_de_esgoto_U1\n",
            " + 6 quantidade_de_esgoto_U2 + 4 quantidade_de_esgoto_U3 <= 1700\n",
            "Bounds\n",
            " 0 <= quantidade_de_esgoto_U1\n",
            " 0 <= quantidade_de_esgoto_U2\n",
            " 0 <= quantidade_de_esgoto_U3\n",
            "Generals\n",
            "quantidade_de_esgoto_U1\n",
            "quantidade_de_esgoto_U2\n",
            "quantidade_de_esgoto_U3\n",
            "End\n",
            "\n",
            "Resultado\n",
            "Status: Optimal\n",
            "quantidade_de_esgoto_U1 = 100.0 [ton]\n",
            "quantidade_de_esgoto_U2 = 140.0 [ton]\n",
            "quantidade_de_esgoto_U3 = 90.0 [ton]\n",
            "Quantidade total tratado: 315.95 [ton]\n"
          ]
        },
        {
          "output_type": "stream",
          "name": "stderr",
          "text": [
            "/usr/local/lib/python3.9/dist-packages/pulp/pulp.py:1352: UserWarning: Spaces are not permitted in the name. Converted to '_'\n",
            "  warnings.warn(\"Spaces are not permitted in the name. Converted to '_'\")\n"
          ]
        }
      ]
    },
    {
      "cell_type": "markdown",
      "source": [
        "#Exercício - 2\n",
        "Uma fábrica produz 3 tipos de produtos utilizando três tipos de recursos. Os\n",
        "parâmetros do problema estão apresentados na tabela a seguir:\n",
        "\n",
        "| Unidades de R em cada kg de P | P1 | P2 | P3 | Disponibilidade (unidades)|\n",
        "| ------------- | ------------- | ------------- |------------- |------------- |\n",
        "|R1|3|2|3|24|\n",
        "|R2|1|2|1|20|\n",
        "|R3|1|2|3|18|\n",
        "|$ Venda (por kg de P)|5|4|3| - |\n",
        "\n",
        "a) Quais as variáveis de decisão do modelo?\n",
        "\n",
        "b) Qual a função-objetivo que maximiza o valor total arrecadado com a venda dos\n",
        "produtos?\n",
        "\n",
        "c) Quais as restrições de disponibilidade dos recursos?\n",
        "\n",
        "d) Qual restrição apresenta: “A utilização diária do recurso R1 deve ser de no mínimo\n",
        "12 unidades”?\n",
        "\n",
        "e) Qual a restrição representa: “A quantidade produzida de P1 não pode ser menor\n",
        "do que a quantidade produzida de P3”?\n",
        "\n",
        "f) Qual restrição representa: “A quantidade produzida de P2 não pode ultrapassar a\n",
        "de P1 por mais de 2kg”?\n",
        "\n",
        "g) Qual restrição representa: “A quantidade produzida de P1 não pode ser maior do\n",
        "que a soma das quantidades produzidas de P2 e P3”?\n",
        "\n",
        "h) Qual restrição representa: “A produção de P1 deve ser de no mínimo 15kg”?\n"
      ],
      "metadata": {
        "id": "ZcSQg4RG8z9n"
      }
    },
    {
      "cell_type": "code",
      "source": [
        "# Import PuLP\n",
        "from pulp import *\n",
        "\n",
        "# maximization problem\n",
        "prob = LpProblem(\"Exercício 2\", LpMaximize)\n",
        "\n",
        "# decision variables\n",
        "x1 = LpVariable(\"qtd P1\", 0, None, LpContinuous)\n",
        "x2 = LpVariable(\"qtd P2\", 0, None, LpContinuous)\n",
        "x3 = LpVariable(\"qtd P3\", 0, None, LpContinuous)\n",
        "\n",
        "# objective function\n",
        "prob += 5 * x1 + 4 * x2 + 3 * x3, \"maximiza o valor total arrecadado com a venda dos produtos\"\n",
        "\n",
        "# restrictions\n",
        "prob += 3 * x1 + 2 * x2 + 3 * x3 <= 24, \"disponibilidade de R1\"\n",
        "prob += 1 * x1 + 2 * x2 + 1 * x3 <= 20, \"disponibilidade de R2\"\n",
        "prob += 1 * x1 + 2 * x2 + 3 * x3 <= 18, \"disponibilidade de R3\"\n",
        "prob += 3 * x1 + 2 * x2 + 3 * x3 >= 12, \"A utilização diária do recurso R1 deve ser de no mínimo 12 unidades\"\n",
        "prob += x3 <= x1, \"A quantidade produzida de P1 não pode ser menor do que a quantidade produzida de P3\"\n",
        "prob += x2 - x1 <= 2, \"A quantidade produzida de P2 não pode ultrapassar a de P1 por mais de 2kg\"\n",
        "prob += x2 + x3 >= x1, \"A quantidade produzida de P1 não pode ser maior do que a soma das quantidades produzidas de P2 e P3\"\n",
        "# prob += x1 >= 15, \"A produção de P1 deve ser de no mínimo 15kg\"\n",
        "\n",
        "prob.writeLP(\"exercicio_2.lp\")\n",
        "with open('exercicio_2.lp') as arquivo:\n",
        "    for line in arquivo:\n",
        "        print(line, end='')\n",
        "\n",
        "# The problem is solved using PuLP's choice of Solver\n",
        "prob.solve()\n",
        "\n",
        "print(\"\\nResultado\\nStatus:\", LpStatus[prob.status])\n",
        "\n",
        "for v in prob.variables():\n",
        "    if v.varValue>0:\n",
        "        print(v.name, \"=\", v.varValue, \"[kg]\")\n",
        "\n",
        "obj = value(prob.objective)\n",
        "print(\"Lucro total: R$ {}\".format(round(obj,2)))\n"
      ],
      "metadata": {
        "colab": {
          "base_uri": "https://localhost:8080/"
        },
        "id": "cILj01zy971V",
        "outputId": "69799838-f554-4d14-da23-b07c268a8400"
      },
      "execution_count": 22,
      "outputs": [
        {
          "output_type": "stream",
          "name": "stdout",
          "text": [
            "\\* Exercício_2 *\\\n",
            "Maximize\n",
            "maximiza_o_valor_total_arrecadado_com_a_venda_dos_produtos: 5 qtd_P1\n",
            " + 4 qtd_P2 + 3 qtd_P3\n",
            "Subject To\n",
            "A_quantidade_produzida_de_P1_não_pode_ser_maior_do_que_a_soma_das_quantidades_produzidas_de_P2_e_P3:\n",
            " - qtd_P1 + qtd_P2 + qtd_P3 >= 0\n",
            "A_quantidade_produzida_de_P1_não_pode_ser_menor_do_que_a_quantidade_produzida_de_P3:\n",
            " - qtd_P1 + qtd_P3 <= 0\n",
            "A_quantidade_produzida_de_P2_não_pode_ultrapassar_a_de_P1_por_mais_de_2kg:\n",
            " - qtd_P1 + qtd_P2 <= 2\n",
            "A_utilização_diária_do_recurso_R1_deve_ser_de_no_mínimo_12_unidades: 3 qtd_P1\n",
            " + 2 qtd_P2 + 3 qtd_P3 >= 12\n",
            "disponibilidade_de_R1: 3 qtd_P1 + 2 qtd_P2 + 3 qtd_P3 <= 24\n",
            "disponibilidade_de_R2: qtd_P1 + 2 qtd_P2 + qtd_P3 <= 20\n",
            "disponibilidade_de_R3: qtd_P1 + 2 qtd_P2 + 3 qtd_P3 <= 18\n",
            "End\n",
            "\n",
            "Resultado\n",
            "Status: Optimal\n",
            "qtd_P1 = 4.0 [kg]\n",
            "qtd_P2 = 6.0 [kg]\n",
            "Lucro total: R$ 44.0\n"
          ]
        }
      ]
    },
    {
      "cell_type": "markdown",
      "source": [
        "# Exercício 3\n",
        "O Centro de Promoção Social Municipal poderá oferecer 3 cursos de capacitação (C1,\n",
        "C2 e C3) no próximo semestre. O curso de informática (C1) pode ser oferecido para no\n",
        "máximo 50 pessoas. O curso de administração financeira (C2) poderá ser oferecido para\n",
        "no máximo 75 pessoas. O curso de culinária (C3) poderá ser oferecido para no máximo 45\n",
        "pessoas. O custo por pessoa em cada curso, pago pela prefeitura, é apresentado na tabela a\n",
        "seguir. O Centro, com o intuito de oferecer as vagas de acordo com o interesse da\n",
        "população, promoveu uma pesquisa de interesse. A tabela apresenta também a\n",
        "informação sobre o interesse da população em cada curso (quanto maior a nota, maior o\n",
        "interesse).\n",
        "\n",
        "| - | C1 | C2 | C3 |\n",
        "| ------------- | ------------- | ------------- |------------- |\n",
        "|Custo do curso ($/pessoa)|500|600|400|\n",
        "|Interesse|6|8|7|\n",
        "\n",
        "A meta da prefeitura é oferecer pelo menos 15 vagas, mas liberou ao Centro um\n",
        "orçamento de no máximo $75.000. O objetivo é decidir quantas vagas oferecer em cada\n",
        "curso, respeitando as restrições maximizando o interesse total. Quais as variáveis de\n",
        "decisão? Qual a função-objetivo? Quais as restrições?"
      ],
      "metadata": {
        "id": "sN2tQaVoGwul"
      }
    },
    {
      "cell_type": "code",
      "source": [
        "# Import PuLP\n",
        "from pulp import *\n",
        "\n",
        "# maximization problem\n",
        "prob = LpProblem(\"Exercício 3\", LpMaximize)\n",
        "\n",
        "# decision variables\n",
        "x1 = LpVariable(\"vagas C1\", 0, None, LpInteger)\n",
        "x2 = LpVariable(\"vagas C2\", 0, None, LpInteger)\n",
        "x3 = LpVariable(\"vagas C3\", 0, None, LpInteger)\n",
        "\n",
        "# objective function\n",
        "prob += 6 * x1 + 8 * x2 + 7 * x3, \"maximiza o valor total arrecadado com a venda dos produtos\"\n",
        "\n",
        "# restrictions\n",
        "prob += 500 * x1 + 600 * x2 + 400 * x3 <= 75000, \"orçamento de no máximo\"\n",
        "prob += x1 <= 50, \"maximo de vagas para C1\"\n",
        "prob += x2 <= 75, \"maximo de vagas para C2\"\n",
        "prob += x3 <= 45, \"maximo de vagas para C3\"\n",
        "prob += x1 + x2 + x3 >= 15, \"A meta da prefeitura é oferecer pelo menos 15 vagas\" \n",
        "\n",
        "prob.writeLP(\"exercicio_3.lp\")\n",
        "with open('exercicio_3.lp') as arquivo:\n",
        "    for line in arquivo:\n",
        "        print(line, end='')\n",
        "\n",
        "# The problem is solved using PuLP's choice of Solver\n",
        "prob.solve()\n",
        "\n",
        "print(\"\\nResultado\\nStatus:\", LpStatus[prob.status])\n",
        "\n",
        "for v in prob.variables():\n",
        "    if v.varValue>0:\n",
        "        print(v.name, \"=\", v.varValue, \"[vagas]\")\n",
        "\n",
        "obj = value(prob.objective)\n",
        "print(\"Interesse total: {}\".format(round(obj,2)))"
      ],
      "metadata": {
        "colab": {
          "base_uri": "https://localhost:8080/"
        },
        "id": "JJyJ6wo_JStH",
        "outputId": "854398c9-7323-472c-e320-73622bdb26e0"
      },
      "execution_count": 23,
      "outputs": [
        {
          "output_type": "stream",
          "name": "stdout",
          "text": [
            "\\* Exercício_3 *\\\n",
            "Maximize\n",
            "maximiza_o_valor_total_arrecadado_com_a_venda_dos_produtos: 6 vagas_C1\n",
            " + 8 vagas_C2 + 7 vagas_C3\n",
            "Subject To\n",
            "A_meta_da_prefeitura_é_oferecer_pelo_menos_15_vagas: vagas_C1 + vagas_C2\n",
            " + vagas_C3 >= 15\n",
            "maximo_de_vagas_para_C1: vagas_C1 <= 50\n",
            "maximo_de_vagas_para_C2: vagas_C2 <= 75\n",
            "maximo_de_vagas_para_C3: vagas_C3 <= 45\n",
            "orçamento_de_no_máximo: 500 vagas_C1 + 600 vagas_C2 + 400 vagas_C3 <= 75000\n",
            "Bounds\n",
            " 0 <= vagas_C1\n",
            " 0 <= vagas_C2\n",
            " 0 <= vagas_C3\n",
            "Generals\n",
            "vagas_C1\n",
            "vagas_C2\n",
            "vagas_C3\n",
            "End\n",
            "\n",
            "Resultado\n",
            "Status: Optimal\n",
            "vagas_C1 = 24.0 [vagas]\n",
            "vagas_C2 = 75.0 [vagas]\n",
            "vagas_C3 = 45.0 [vagas]\n",
            "Interesse total: 1059.0\n"
          ]
        }
      ]
    },
    {
      "cell_type": "markdown",
      "source": [
        "#Exercício 4\n",
        "\n",
        "Considere que você tenha 100 mil reais para investir. Há cinco possibilidades de\n",
        "investimento, cada um com um retorno e um risco associado (1-10) com risco 1 sendo o\n",
        "mais baixo:\n",
        "\n",
        "| Investimento | Retorno (%) | Risco |\n",
        "| ------------- | ------------- | ------------- |\n",
        "|1|9|3|\n",
        "|2|12|6|\n",
        "|3|15|8|\n",
        "|4|8|2|\n",
        "|5|6|1|\n",
        "\n",
        "Qualquer dinheiro não investido vai para uma conta-poupança com nenhum risco e\n",
        "retorno de 3%. O objetivo é alocar o dinheiro nos diversos tipos de investimentos de tal\n",
        "maneira a:\n",
        "\n",
        "a)Maximizar o retorno com reais.\n",
        "\n",
        "b)Tenha um risco total inferior a 5.\n",
        "\n",
        "c)Investir pelo menos 20% no investimento 4.\n",
        "\n",
        "d)A quantidade investida em 2 e 3 não deve ser maior do que a quantidade investida\n",
        "em 1.\n"
      ],
      "metadata": {
        "id": "Ck8MDw7pMd2d"
      }
    },
    {
      "cell_type": "code",
      "source": [
        "# Import PuLP\n",
        "from pulp import *\n",
        "\n",
        "# maximization problem\n",
        "prob = LpProblem(\"Exercício 4\", LpMaximize)\n",
        "\n",
        "# decision variables\n",
        "x1 = LpVariable(\"qte 1\", 0, None, LpContinuous)\n",
        "x2 = LpVariable(\"qte 2\", 0, None, LpContinuous)\n",
        "x3 = LpVariable(\"qte 3\", 0, None, LpContinuous)\n",
        "x4 = LpVariable(\"qte 4\", 0, None, LpContinuous)\n",
        "x5 = LpVariable(\"qte 5\", 0, None, LpContinuous)\n",
        "x6 = LpVariable(\"qte P\", 0, None, LpContinuous)\n",
        "\n",
        "y1 = LpVariable(\"inv 1\", 0, 1, LpInteger)\n",
        "y2 = LpVariable(\"inv 2\", 0, 1, LpInteger)\n",
        "y3 = LpVariable(\"inv 3\", 0, 1, LpInteger)\n",
        "y4 = LpVariable(\"inv 4\", 0, 1, LpInteger)\n",
        "y5 = LpVariable(\"inv 5\", 0, 1, LpInteger)\n",
        "\n",
        "# objective function\n",
        "prob += (1/100)*( (9*x1) + (12*x2) + (15*x3) + (8*x4) + (6*x5) + (3*x6)), \"Maximizar o retorno com reais.\"\n",
        "\n",
        "# restrictions\n",
        "prob += x4 >= 20000, \"Investir pelo menos 20% no investimento 4\"\n",
        "prob += x2 + x3 <= x1,\"A quantidade investida em 2 e 3 não deve ser maior do que a quantidade investida em 1.\"\n",
        "prob += x1 + x2 + x3 + x4 + x5 + x6 == 100000,\"soma total investida tem que ser igual a 100000\"\n",
        "prob += x1 - ( x1 - 1 ) == y1,\"\"\n",
        "prob += x2 - ( x2 - 1 ) == y2,\"\"\n",
        "prob += x3 - ( x3 - 1 ) == y3,\"\"\n",
        "prob += x4 - ( x4 - 1 ) == y4,\"\"\n",
        "prob += x5 - ( x5 - 1 ) == y5,\"\"\n",
        "prob += 3 * y1 + 6 * y2 + 8 * y3 + 3 * y4 + 1 * y5 <= 5, \"Tenha um risco total inferior a 5.\"\n",
        "\n",
        "prob.writeLP(\"exercicio_4.lp\")\n",
        "with open('exercicio_4.lp') as arquivo:\n",
        "    for line in arquivo:\n",
        "        print(line, end='')\n",
        "\n",
        "# The problem is solved using PuLP's choice of Solver\n",
        "prob.solve()\n",
        "\n",
        "print(\"\\nResultado\\nStatus:\", LpStatus[prob.status])\n",
        "\n",
        "for v in prob.variables():\n",
        "    if v.varValue>0:\n",
        "        print(v.name, \"= R$ \", v.varValue)\n",
        "\n",
        "obj = value(prob.objective)\n",
        "print(\"Retorno total: R$ {}\".format(round(obj,2)))\n"
      ],
      "metadata": {
        "id": "H4eR41vVNk6h",
        "colab": {
          "base_uri": "https://localhost:8080/"
        },
        "outputId": "8e1cb1a9-be97-4345-db5e-e2e2670fb4fc"
      },
      "execution_count": 24,
      "outputs": [
        {
          "output_type": "stream",
          "name": "stdout",
          "text": [
            "\\* Exercício_4 *\\\n",
            "Maximize\n",
            "Maximizar_o_retorno_com_reais.: 0.09 qte_1 + 0.12 qte_2 + 0.15 qte_3\n",
            " + 0.08 qte_4 + 0.06 qte_5 + 0.03 qte_P\n",
            "Subject To\n",
            "A_quantidade_investida_em_2_e_3_não_deve_ser_maior_do_que_a_quantidade_investida_em_1.:\n",
            " - qte_1 + qte_2 + qte_3 <= 0\n",
            "Investir_pelo_menos_20%_no_investimento_4: qte_4 >= 20000\n",
            "Tenha_um_risco_total_inferior_a_5.: 3 inv_1 + 6 inv_2 + 8 inv_3 + 3 inv_4\n",
            " + inv_5 <= 5\n",
            "_C1: - inv_1 + 0 qte_1 = -1\n",
            "_C2: - inv_2 + 0 qte_2 = -1\n",
            "_C3: - inv_3 + 0 qte_3 = -1\n",
            "_C4: - inv_4 + 0 qte_4 = -1\n",
            "_C5: - inv_5 + 0 qte_5 = -1\n",
            "soma_total_investida_tem_que_ser_igual_a_100000: qte_1 + qte_2 + qte_3 + qte_4\n",
            " + qte_5 + qte_P = 100000\n",
            "Binaries\n",
            "inv_1\n",
            "inv_2\n",
            "inv_3\n",
            "inv_4\n",
            "inv_5\n",
            "End\n",
            "\n",
            "Resultado\n",
            "Status: Infeasible\n",
            "inv_2 = R$  1.0\n",
            "inv_3 = R$  1.0\n",
            "qte_1 = R$  40000.0\n",
            "qte_3 = R$  40000.0\n",
            "qte_4 = R$  20000.0\n",
            "Retorno total: R$ 11200.0\n"
          ]
        }
      ]
    },
    {
      "cell_type": "markdown",
      "source": [
        "# Exercício 5\n",
        "Uma companhia manufatura quatro produtos em duas máquinas. O tempo de\n",
        "processamento (em minutos) para processar cada produto em cada máquina é mostrado\n",
        "abaixo:\n",
        "\n",
        "| Produto | Máquina 1 | Máquina 2 |\n",
        "| ------------- | ------------- | ------------- |\n",
        "|1|10|27|\n",
        "|2|12|19|\n",
        "|3|13|33|\n",
        "|4|8|23|\n",
        "\n",
        "O lucro por unidade de cada produto é de R$ 30, R$ 36, R$ 51 e R$ 24, respectivamente.\n",
        "Os produtos passam por ambas as máquinas, em uma linha de produção. A fábrica é\n",
        "pequena e isto significa que o espaço é pequeno. A produção de uma semana é\n",
        "armazenada em um espaço de 50 metros quadrados onde o espaço que cada produto toma\n",
        "é 0.1, 0.15, 0.5 e 0.05 metros quadrados para os produtos 1, 2, 3 e 4, respectivamente. Por\n",
        "condições de mercado, a produção do produto 2 deve ser duas vezes a produção do\n",
        "produto 3. A máquina 1 fica parada (para manutenção) 5% do tempo e a máquina 2 fica\n",
        "parada 7% do tempo. Assumindo uma semana de 40 horas, formule o problema de\n",
        "produzir estes produtos afim de maximizar o lucro.\n",
        "\n"
      ],
      "metadata": {
        "id": "PEQjKiloN8H_"
      }
    },
    {
      "cell_type": "code",
      "source": [
        "# Import PuLP\n",
        "from pulp import *\n",
        "\n",
        "# maximization problem\n",
        "prob = LpProblem(\"Exercício 5\", LpMaximize)\n",
        "\n",
        "# decision variables\n",
        "x1 = LpVariable(\"qte P1\", 0, None, LpInteger)\n",
        "x2 = LpVariable(\"qte P2\", 0, None, LpInteger)\n",
        "x3 = LpVariable(\"qte P3\", 0, None, LpInteger)\n",
        "x4 = LpVariable(\"qte P4\", 0, None, LpInteger)\n",
        "\n",
        "# objective function\n",
        "prob += 30 * x1 + 36 * x2 + 51 * x3 + 24 * x4, \"problema de produzir estes produtos afim de maximizar o lucro\"\n",
        "\n",
        "# restrictions\n",
        "prob += 0.1 * x1 + 0.15 * x2 + 0.5 * x3 + 0.05 * x4 <= 50, \"espaço de 50 metros quadrados\"\n",
        "prob += x2 == 2 * x3, \"a produção do produto 2 deve ser duas vezes a produção do produto 3.\" \n",
        "prob += 10 * x1 + 12 * x2 + 13 * x3 + 8 * x4 <= 2280, \"máquina 1 fica parada 5% do tempo\"\n",
        "prob += 27 * x1 + 19 * x2 + 33 * x3 + 23 * x4 <= 2232, \"máquina 2 fica parada 7% do tempo\"\n",
        "\n",
        "prob.writeLP(\"exercicio_5.lp\")\n",
        "with open('exercicio_5.lp') as arquivo:\n",
        "    for line in arquivo:\n",
        "        print(line, end='')\n",
        "\n",
        "# The problem is solved using PuLP's choice of Solver\n",
        "prob.solve()\n",
        "\n",
        "print(\"\\nResultado\\nStatus:\", LpStatus[prob.status])\n",
        "\n",
        "for v in prob.variables():\n",
        "    if v.varValue>0:\n",
        "        print(v.name, \"=\", v.varValue, \"[unidades]\")\n",
        "\n",
        "obj = value(prob.objective)\n",
        "print(\"Lucro total: R$ {}\".format(round(obj,2)))\n"
      ],
      "metadata": {
        "colab": {
          "base_uri": "https://localhost:8080/"
        },
        "id": "Ps1JZuiAOlkR",
        "outputId": "199036a2-26b6-4c25-b353-d54e307ead3f"
      },
      "execution_count": 25,
      "outputs": [
        {
          "output_type": "stream",
          "name": "stdout",
          "text": [
            "\\* Exercício_5 *\\\n",
            "Maximize\n",
            "problema_de_produzir_estes_produtos_afim_de_maximizar_o_lucro: 30 qte_P1\n",
            " + 36 qte_P2 + 51 qte_P3 + 24 qte_P4\n",
            "Subject To\n",
            "a_produção_do_produto_2_deve_ser_duas_vezes_a_produção_do_produto_3.: qte_P2\n",
            " - 2 qte_P3 = 0\n",
            "espaço_de_50_metros_quadrados: 0.1 qte_P1 + 0.15 qte_P2 + 0.5 qte_P3\n",
            " + 0.05 qte_P4 <= 50\n",
            "máquina_1_fica_parada_5%_do_tempo: 10 qte_P1 + 12 qte_P2 + 13 qte_P3\n",
            " + 8 qte_P4 <= 2280\n",
            "máquina_2_fica_parada_7%_do_tempo: 27 qte_P1 + 19 qte_P2 + 33 qte_P3\n",
            " + 23 qte_P4 <= 2232\n",
            "Bounds\n",
            " 0 <= qte_P1\n",
            " 0 <= qte_P2\n",
            " 0 <= qte_P3\n",
            " 0 <= qte_P4\n",
            "Generals\n",
            "qte_P1\n",
            "qte_P2\n",
            "qte_P3\n",
            "qte_P4\n",
            "End\n",
            "\n",
            "Resultado\n",
            "Status: Optimal\n",
            "qte_P1 = 1.0 [unidades]\n",
            "qte_P2 = 62.0 [unidades]\n",
            "qte_P3 = 31.0 [unidades]\n",
            "Lucro total: R$ 3843.0\n"
          ]
        }
      ]
    },
    {
      "cell_type": "markdown",
      "source": [
        "# Exercício 6 \n",
        "Uma determinada fábrica produz panelas de metal médias e grandes a partir de\n",
        "elementos circulares de diâmetros de 0,25 e 0,40 metro, respectivamente. A primeira\n",
        "operação para obter panelas é um corte desses elementos circulares em chapas de\n",
        "dimensão 1,40 X 0,50 metro. Os elementos planos circulares são transformados em\n",
        "panelas em uma segunda operação de estamparia. Para o corte existem quatro tipos de\n",
        "matrizes conforme mostra a figura a seguir. A fábrica deseja uma produção diária mínima\n",
        "de 500 panelas médias (obtidas do elemento circular de diâmetro de 0,25) e 350 grandes\n",
        "(obtidas do elemento circular de diâmetro de 0,40). Os custos em reais por chapa pelo uso\n",
        "de cada matriz de corte são respectivamente: 1, 2, 3, 2. Elabore um modelo de\n",
        "programação linear que planeje a produção de modo a otimizar o custo com uso das\n",
        "chapas.\n",
        "\n",
        "![Captura de tela de 2023-03-18 21-38-36.png](data:image/png;base64,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)"
      ],
      "metadata": {
        "id": "ma61Tp41TP9o"
      }
    },
    {
      "cell_type": "code",
      "source": [
        "# Import PuLP\n",
        "from pulp import *\n",
        "\n",
        "# maximization problem\n",
        "prob = LpProblem(\"Exercício 6\", LpMinimize)\n",
        "\n",
        "# decision variables\n",
        "x1 = LpVariable(\"qte Mtr1\", 0, None, LpInteger)\n",
        "x2 = LpVariable(\"qte Mtr2\", 0, None, LpInteger)\n",
        "x3 = LpVariable(\"qte Mtr3\", 0, None, LpInteger)\n",
        "x4 = LpVariable(\"qte Mtr4\", 0, None, LpInteger)\n",
        "\n",
        "# objective function\n",
        "prob += x1 + 2 * x2 + 3 * x3 + 2 * x4, \"planeje a produção de modo a otimizar o custo com uso das chapas\"\n",
        "\n",
        "# restrictions\n",
        "prob += 8 * x1 + 4 * x2 + 2 * x3 + 0 * x4 >= 500, \"diária mínima de 500 panelas médias\"\n",
        "prob += 0 * x1 + 1 * x2 + 2 * x3 + 3 * x4 >= 350, \"diária mínima de 350 panelas grandes\"\n",
        "\n",
        "prob.writeLP(\"exercicio_6.lp\")\n",
        "with open('exercicio_6.lp') as arquivo:\n",
        "    for line in arquivo:\n",
        "        print(line, end='')\n",
        "\n",
        "# The problem is solved using PuLP's choice of Solver\n",
        "prob.solve()\n",
        "\n",
        "print(\"\\nResultado\\nStatus:\", LpStatus[prob.status])\n",
        "\n",
        "for v in prob.variables():\n",
        "    if v.varValue>0:\n",
        "        print(v.name, \"=\", v.varValue, \"[unidades]\")\n",
        "\n",
        "obj = value(prob.objective)\n",
        "print(\"Lucro total: R$ {}\".format(round(obj,2)))\n",
        "\n"
      ],
      "metadata": {
        "colab": {
          "base_uri": "https://localhost:8080/"
        },
        "id": "nzEEvUaVTumg",
        "outputId": "9b5e8350-25fa-4cf1-ac5d-1aca8f0d4199"
      },
      "execution_count": 26,
      "outputs": [
        {
          "output_type": "stream",
          "name": "stdout",
          "text": [
            "\\* Exercício_6 *\\\n",
            "Minimize\n",
            "planeje_a_produção_de_modo_a_otimizar_o_custo_com_uso_das_chapas: qte_Mtr1\n",
            " + 2 qte_Mtr2 + 3 qte_Mtr3 + 2 qte_Mtr4\n",
            "Subject To\n",
            "diária_mínima_de_350_panelas_grandes: qte_Mtr2 + 2 qte_Mtr3 + 3 qte_Mtr4\n",
            " >= 350\n",
            "diária_mínima_de_500_panelas_médias: 8 qte_Mtr1 + 4 qte_Mtr2 + 2 qte_Mtr3\n",
            " >= 500\n",
            "Bounds\n",
            " 0 <= qte_Mtr1\n",
            " 0 <= qte_Mtr2\n",
            " 0 <= qte_Mtr3\n",
            " 0 <= qte_Mtr4\n",
            "Generals\n",
            "qte_Mtr1\n",
            "qte_Mtr2\n",
            "qte_Mtr3\n",
            "qte_Mtr4\n",
            "End\n",
            "\n",
            "Resultado\n",
            "Status: Optimal\n",
            "qte_Mtr1 = 63.0 [unidades]\n",
            "qte_Mtr4 = 117.0 [unidades]\n",
            "Lucro total: R$ 297.0\n"
          ]
        }
      ]
    },
    {
      "cell_type": "markdown",
      "source": [
        "# Exercício 7\n",
        "Uma empresa pode anunciar seus produtos na rádio local e na televisão. A verba de\n",
        "propaganda é limitada a 10.000 por mês. Cada minuto de propaganda pela rádio custa\n",
        "15 e cada minuto de comerciais na TV custa 300. A empresa tem um contrato com a\n",
        "rádio que exige que o anúncio no mínimo duas vezes mais do que na TV. Ao mesmo\n",
        "tempo, não se deseja usar mais do que 400 minutos por mês de propaganda pela rádio.\n",
        "Por experiências anteriores, a empresa estima que anunciar na TV é 5 vezes mais\n",
        "eficiente do que anunciar na rádio. Escreva o modelo para determinar a alocação\n",
        "ótima de verba de propaganda entre rádio e TV, de maneira a maximizar a eficiência total\n",
        "ponderada."
      ],
      "metadata": {
        "id": "UXtt9vPlW7wS"
      }
    },
    {
      "cell_type": "code",
      "source": [
        "# Import PuLP\n",
        "from pulp import *\n",
        "\n",
        "# maximization problem\n",
        "prob = LpProblem(\"Exercício 7\", LpMaximize)\n",
        "\n",
        "# decision variables\n",
        "x1 = LpVariable(\"qte minutos radio\", 0, None, LpInteger)\n",
        "x2 = LpVariable(\"qte minutos tv\", 0, None, LpInteger)\n",
        "\n",
        "# objective function\n",
        "prob += 1 * x1 + 5 * x2, \"maximizar a eficiência total ponderada.\"\n",
        "\n",
        "# restrictions\n",
        "prob += 15 * x1 + 300 * x2 <=10000,\"A verba de propaganda é limitada a 10.000 por mês\"\n",
        "prob += x1 >= 2 * x2, \"rádio que exige que o anúncio no mínimo duas vezes mais do que na TV\"\n",
        "prob += x1 <=400, \"deseja usar mais do que 400 minutos por mês de propaganda pela rádio\"\n",
        "\n",
        "prob.writeLP(\"exercicio_7.lp\")\n",
        "with open('exercicio_7.lp') as arquivo:\n",
        "    for line in arquivo:\n",
        "        print(line, end='')\n",
        "\n",
        "# The problem is solved using PuLP's choice of Solver\n",
        "prob.solve()\n",
        "\n",
        "print(\"\\nResultado\\nStatus:\", LpStatus[prob.status])\n",
        "\n",
        "for v in prob.variables():\n",
        "    if v.varValue>0:\n",
        "        print(v.name, \"=\", v.varValue, \"[minutos]\")\n",
        "\n",
        "obj = value(prob.objective)\n",
        "print(\"Fo: {}\".format(round(obj,2)))\n",
        "\n"
      ],
      "metadata": {
        "colab": {
          "base_uri": "https://localhost:8080/"
        },
        "id": "6sKTEUjjXFr5",
        "outputId": "2c6f0782-5e36-458c-c2f6-a45b5d1b4164"
      },
      "execution_count": 27,
      "outputs": [
        {
          "output_type": "stream",
          "name": "stdout",
          "text": [
            "\\* Exercício_7 *\\\n",
            "Maximize\n",
            "maximizar_a_eficiência_total_ponderada.: qte_minutos_radio + 5 qte_minutos_tv\n",
            "Subject To\n",
            "A_verba_de_propaganda_é_limitada_a_10.000_por_mês: 15 qte_minutos_radio\n",
            " + 300 qte_minutos_tv <= 10000\n",
            "deseja_usar_mais_do_que_400_minutos_por_mês_de_propaganda_pela_rádio:\n",
            " qte_minutos_radio <= 400\n",
            "rádio_que_exige_que_o_anúncio_no_mínimo_duas_vezes_mais_do_que_na_TV:\n",
            " qte_minutos_radio - 2 qte_minutos_tv >= 0\n",
            "Bounds\n",
            " 0 <= qte_minutos_radio\n",
            " 0 <= qte_minutos_tv\n",
            "Generals\n",
            "qte_minutos_radio\n",
            "qte_minutos_tv\n",
            "End\n",
            "\n",
            "Resultado\n",
            "Status: Optimal\n",
            "qte_minutos_radio = 400.0 [minutos]\n",
            "qte_minutos_tv = 13.0 [minutos]\n",
            "Fo: 465.0\n"
          ]
        }
      ]
    },
    {
      "cell_type": "markdown",
      "source": [
        "# Exercício 8\n",
        "\n",
        "Peças P1 e P2 são fabricadas em linha de produção nas máquinas M1, M2 e M3. Cada\n",
        "P1 gera 20 de lucro e gasta: 1h de M1, 2h de M2 e 1h de M3. Cada P2 gera 25 de lucro e\n",
        "gasta: 2h de M1, 1h de M2 e não utiliza a M3. Considere as seguintes disponibilidades para cada\n",
        "máquina, respectivamente: 60h, 60h e 25h. Qual a produção maximiza o lucro?"
      ],
      "metadata": {
        "id": "-xkAWqR3cXpn"
      }
    },
    {
      "cell_type": "code",
      "source": [
        "# Import PuLP\n",
        "from pulp import *\n",
        "\n",
        "# maximization problem\n",
        "prob = LpProblem(\"Exercício 8\", LpMaximize)\n",
        "\n",
        "# decision variables\n",
        "x1 = LpVariable(\"qte P1\", 0, None, LpInteger)\n",
        "x2 = LpVariable(\"qte P2\", 0, None, LpInteger)\n",
        "\n",
        "# objective function\n",
        "prob += 20 * x1 + 25 * x2, \"Qual a produção maximiza o lucro\"\n",
        "\n",
        "# restrictions\n",
        "prob += 1 * x1 + 2 * x2 <= 60, \"Restrição da M1\"\n",
        "prob += 2 * x1 + 1 * x2 <= 60, \"Restrição da M2\"\n",
        "prob += 1 * x1 + 0 * x2 <= 25, \"Restrição da M3\"\n",
        "\n",
        "prob.writeLP(\"exercicio_8.lp\")\n",
        "with open('exercicio_8.lp') as arquivo:\n",
        "    for line in arquivo:\n",
        "        print(line, end='')\n",
        "\n",
        "# The problem is solved using PuLP's choice of Solver\n",
        "prob.solve()\n",
        "\n",
        "print(\"\\nResultado\\nStatus:\", LpStatus[prob.status])\n",
        "\n",
        "for v in prob.variables():\n",
        "    if v.varValue>0:\n",
        "        print(v.name, \"=\", v.varValue, \"[unidades]\")\n",
        "\n",
        "obj = value(prob.objective)\n",
        "print(\"Lucro total: ${}\".format(round(obj,2)))"
      ],
      "metadata": {
        "colab": {
          "base_uri": "https://localhost:8080/"
        },
        "id": "ELUXLHTbchgK",
        "outputId": "76d792a7-924c-4d9c-c7f6-05a879d0210d"
      },
      "execution_count": 28,
      "outputs": [
        {
          "output_type": "stream",
          "name": "stdout",
          "text": [
            "\\* Exercício_8 *\\\n",
            "Maximize\n",
            "Qual_a_produção_maximiza_o_lucro: 20 qte_P1 + 25 qte_P2\n",
            "Subject To\n",
            "Restrição_da_M1: qte_P1 + 2 qte_P2 <= 60\n",
            "Restrição_da_M2: 2 qte_P1 + qte_P2 <= 60\n",
            "Restrição_da_M3: qte_P1 <= 25\n",
            "Bounds\n",
            " 0 <= qte_P1\n",
            " 0 <= qte_P2\n",
            "Generals\n",
            "qte_P1\n",
            "qte_P2\n",
            "End\n",
            "\n",
            "Resultado\n",
            "Status: Optimal\n",
            "qte_P1 = 20.0 [unidades]\n",
            "qte_P2 = 20.0 [unidades]\n",
            "Lucro total: $900.0\n"
          ]
        }
      ]
    },
    {
      "cell_type": "markdown",
      "source": [
        "# Exercício 9\n",
        "Uma refinaria recebe barris de dois tipos de petróleo, A e B, e transformar estes barris\n",
        "e, 3 diferentes produtos: P1, P2 e P3. Os petróleos diferem na composição química. Um\n",
        "barril do tipo A resulta em 0.3 barril de P1, 0.4 barril de P2 e 0.2 barril de P3. Um barril\n",
        "do tipo B resulta em 0.4 barril de P1, 0.2 barril de P2 e 0.3 barril de P3. O restante de\n",
        "cada barril (A ou B) é perdido no processo de refinamento. A refinaria pode comprar\n",
        "9000 barris por dia a 20 cada, do tipo A; e 6000 barris por dia a 15 cada, do tipo B. A\n",
        "refinaria possui contrato com um distribuidor e precisa garantir a produção de 2000\n",
        "barris de P1, 1500 barris de P2 e 500 barris de P3. Modele o problema de minimização\n",
        "do custo."
      ],
      "metadata": {
        "id": "lOULGZ_weTqe"
      }
    },
    {
      "cell_type": "code",
      "source": [
        "# Import PuLP\n",
        "from pulp import *\n",
        "\n",
        "# maximization problem\n",
        "prob = LpProblem(\"Exercício 9\", LpMinimize)\n",
        "\n",
        "# decision variables\n",
        "x1 = LpVariable(\"qte A\", 0, None, LpInteger)\n",
        "x2 = LpVariable(\"qte B\", 0, None, LpInteger)\n",
        "\n",
        "# objective function\n",
        "prob += 20 * x1 + 15 * x2, \"Modele o problema de minimização do custo\"\n",
        "\n",
        "# restrictions\n",
        "prob += 0.3 * x1 + 0.4 * x2 >= 2000, \"garantir a produção de 2000 barris de P1\"\n",
        "prob += 0.4 * x1 + 0.2 * x2 >= 1500, \"garantir a produção de 1500 barris de P2\"\n",
        "prob += 0.2 * x1 + 0.3 * x2 >= 500, \"garantir a produção de 500 barris de P3\"\n",
        "prob += x1 <= 9000, \"A refinaria pode comprar 9000 barris por dia\"\n",
        "prob += x2 <= 6000, \"A refinaria pode comprar 6000 barris por dia\" \n",
        "\n",
        "prob.writeLP(\"exercicio_9.lp\")\n",
        "with open('exercicio_9.lp') as arquivo:\n",
        "    for line in arquivo:\n",
        "        print(line, end='')\n",
        "\n",
        "# The problem is solved using PuLP's choice of Solver\n",
        "prob.solve()\n",
        "\n",
        "print(\"\\nResultado\\nStatus:\", LpStatus[prob.status])\n",
        "\n",
        "for v in prob.variables():\n",
        "    if v.varValue>0:\n",
        "        print(v.name, \"=\", v.varValue, \"[barris]\")\n",
        "\n",
        "obj = value(prob.objective)\n",
        "print(\"Custo total: ${}\".format(round(obj,2)))\n"
      ],
      "metadata": {
        "colab": {
          "base_uri": "https://localhost:8080/"
        },
        "id": "KWPwk72Mea46",
        "outputId": "1c85d0b3-b3db-48f0-901b-c9122b9a15b0"
      },
      "execution_count": 29,
      "outputs": [
        {
          "output_type": "stream",
          "name": "stdout",
          "text": [
            "\\* Exercício_9 *\\\n",
            "Minimize\n",
            "Modele_o_problema_de_minimização_do_custo: 20 qte_A + 15 qte_B\n",
            "Subject To\n",
            "A_refinaria_pode_comprar_6000_barris_por_dia: qte_B <= 6000\n",
            "A_refinaria_pode_comprar_9000_barris_por_dia: qte_A <= 9000\n",
            "garantir_a_produção_de_1500_barris_de_P2: 0.4 qte_A + 0.2 qte_B >= 1500\n",
            "garantir_a_produção_de_2000_barris_de_P1: 0.3 qte_A + 0.4 qte_B >= 2000\n",
            "garantir_a_produção_de_500_barris_de_P3: 0.2 qte_A + 0.3 qte_B >= 500\n",
            "Bounds\n",
            " 0 <= qte_A\n",
            " 0 <= qte_B\n",
            "Generals\n",
            "qte_A\n",
            "qte_B\n",
            "End\n",
            "\n",
            "Resultado\n",
            "Status: Optimal\n",
            "qte_A = 2000.0 [barris]\n",
            "qte_B = 3500.0 [barris]\n",
            "Custo total: $92500.0\n"
          ]
        }
      ]
    },
    {
      "cell_type": "markdown",
      "source": [
        "# Exercíco 10\n",
        "\n",
        "Uma fábrica produz 3 tipos de peças (P1, P2 e P3) fabricadas em linha de produção\n",
        "nas máquinas (M1 e M2). Cada peça P1 gasta: 6h de M1 e 1h de M2. Cada peça P2\n",
        "gasta: 4h de M1 e 2h de M2; cada peça P3 gasta 3h de M1 e não passa pela M2.\n",
        "Considere as seguintes disponibilidades para cada máquina: 34h (M1) e 18h (M2). Um\n",
        "cliente adiantou um pedido e para atender esta demanda a produção de P3 deve ser de no\n",
        "mínimo 3. Uma pesquisa de mercado indica que a produção diária de P1 não pode\n",
        "ultrapassar a de P2 em mais de uma unidade. Além disso, a capacidade de produção de\n",
        "P1 é de no máximo 2. Cada peça é vendida por $4, $3 e $2, respectivamente e deseja-se\n",
        "maximizar o valor obtido com a venda das peças. Quais as variáveis de decisão? Qual a\n",
        "função-objetivo? Quais as restrições do modelo?"
      ],
      "metadata": {
        "id": "MeKk7KscgUzS"
      }
    },
    {
      "cell_type": "code",
      "source": [
        "# Import PuLP\n",
        "from pulp import *\n",
        "\n",
        "# maximization problem\n",
        "prob = LpProblem(\"Exercício 10\", LpMaximize)\n",
        "\n",
        "# decision variables\n",
        "x1 = LpVariable(\"qte P1\", 0, None, LpInteger)\n",
        "x2 = LpVariable(\"qte P2\", 0, None, LpInteger)\n",
        "x3 = LpVariable(\"qte P3\", 0, None, LpInteger)\n",
        "\n",
        "# objective function\n",
        "prob += 1 * x1 + 3 * x2 + 2 * x3, \"maximizar o valor obtido com a venda das peças\"\n",
        "\n",
        "# restrictions\n",
        "prob += 6 * x1 + 4 * x2 + 3 * x3 <= 34, \"disponibilidades para cada máquina 1: 34h \"\n",
        "prob += 1 * x1 + 2 * x2 + 0 * x3 <= 18, \"disponibilidades para cada máquina 1: 18h \"\n",
        "prob += x3 >= 3, \"produção de P3 deve ser de no mínimo 3\"\n",
        "prob += x1 <= 2, \"capacidade de produção de P1 é de no máximo 2\"\n",
        "prob += x1 - x2 <= 1, \"uma pesquisa de mercado indica que a produção diária de P1 não pode ultrapassar a de P2 em mais de uma unidade\"\n",
        "\n",
        "prob.writeLP(\"exercicio_10.lp\")\n",
        "with open('exercicio_10.lp') as arquivo:\n",
        "    for line in arquivo:\n",
        "        print(line, end='')\n",
        "\n",
        "# The problem is solved using PuLP's choice of Solver\n",
        "prob.solve()\n",
        "\n",
        "print(\"\\nResultado\\nStatus:\", LpStatus[prob.status])\n",
        "\n",
        "for v in prob.variables():\n",
        "    if v.varValue>0:\n",
        "        print(v.name, \"=\", v.varValue, \"[unidades]\")\n",
        "\n",
        "obj = value(prob.objective)\n",
        "print(\"Lucro total: ${}\".format(round(obj,2)))"
      ],
      "metadata": {
        "colab": {
          "base_uri": "https://localhost:8080/"
        },
        "id": "cLLb9E3XgYuI",
        "outputId": "aaa67efd-31a0-4bb8-d156-007eab35a7bb"
      },
      "execution_count": 30,
      "outputs": [
        {
          "output_type": "stream",
          "name": "stdout",
          "text": [
            "\\* Exercício_10 *\\\n",
            "Maximize\n",
            "maximizar_o_valor_obtido_com_a_venda_das_peças: qte_P1 + 3 qte_P2 + 2 qte_P3\n",
            "Subject To\n",
            "capacidade_de_produção_de_P1_é_de_no_máximo_2: qte_P1 <= 2\n",
            "disponibilidades_para_cada_máquina_1:_18h_: qte_P1 + 2 qte_P2 <= 18\n",
            "disponibilidades_para_cada_máquina_1:_34h_: 6 qte_P1 + 4 qte_P2 + 3 qte_P3\n",
            " <= 34\n",
            "produção_de_P3_deve_ser_de_no_mínimo_3: qte_P3 >= 3\n",
            "uma_pesquisa_de_mercado_indica_que_a_produção_diária_de_P1_não_pode_ultrapassar_a_de_P2_em_mais_de_uma_unidade:\n",
            " qte_P1 - qte_P2 <= 1\n",
            "Bounds\n",
            " 0 <= qte_P1\n",
            " 0 <= qte_P2\n",
            " 0 <= qte_P3\n",
            "Generals\n",
            "qte_P1\n",
            "qte_P2\n",
            "qte_P3\n",
            "End\n",
            "\n",
            "Resultado\n",
            "Status: Optimal\n",
            "qte_P2 = 6.0 [unidades]\n",
            "qte_P3 = 3.0 [unidades]\n",
            "Lucro total: $24.0\n"
          ]
        }
      ]
    }
  ]
}