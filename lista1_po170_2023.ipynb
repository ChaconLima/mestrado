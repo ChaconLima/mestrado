{
  "nbformat": 4,
  "nbformat_minor": 0,
  "metadata": {
    "colab": {
      "provenance": [],
      "authorship_tag": "ABX9TyMuXn/G0pPo8HLfsUMihWq0",
      "include_colab_link": true
    },
    "kernelspec": {
      "name": "python3",
      "display_name": "Python 3"
    },
    "language_info": {
      "name": "python"
    }
  },
  "cells": [
    {
      "cell_type": "markdown",
      "metadata": {
        "id": "view-in-github",
        "colab_type": "text"
      },
      "source": [
        "<a href=\"https://colab.research.google.com/github/ChaconLima/mestrado/blob/introdu%C3%A7%C3%A3o-a-pesquisa-operacional/lista1_po170_2023.ipynb\" target=\"_parent\"><img src=\"https://colab.research.google.com/assets/colab-badge.svg\" alt=\"Open In Colab\"/></a>"
      ]
    },
    {
      "cell_type": "code",
      "execution_count": null,
      "metadata": {
        "id": "dEkBLiVGp7YL"
      },
      "outputs": [],
      "source": [
        "# solver\n",
        "!pip install pulp\n",
        "\n",
        "#documentation - https://coin-or.github.io/pulp/index.html\n"
      ]
    },
    {
      "cell_type": "markdown",
      "source": [
        "#Exercício - 1\n",
        "A Cia. De Água e Esgoto de uma cidade possui 3 unidades de tratamento de esgotos, e\n",
        "cada uma delas está em um estágio de avanço tecnológico diferente. O estágio\n",
        "tecnológico faz com que custos, eficiências e capacidades sejam diferentes. A tabela a\n",
        "seguir, fornece os dados das unidades (U1, U2, U3).\n",
        "\n",
        "| Tabela | U1 | U2 | U3 |\n",
        "| ------------- | ------------- |------------- |------------- |\n",
        "| Custo de tratamento ($/ton)  | 5 | 6 | 4 |\n",
        "| Eficiência (%)  | 95,5 | 98,0 | 92,5 |\n",
        "| Capacidade de processamento (ton)| 100 | 150 | 150 |\n",
        "\n",
        "\n",
        "A Cia. precisa saber quanto de esgoto (em ton) deve ser encaminhado para cada unidade\n",
        "de tratamento de maneira a maximizar a eficiência total do tratamento. A meta do período\n",
        "do planejamento é tratar pelo menos 300 toneladas de esgoto, gastando no máximo\n",
        "$1.700. Quais as variáveis de decisão? Qual a função-objetivo? Quais as restrições do\n",
        "modelo?"
      ],
      "metadata": {
        "id": "STA3iLivvBuS"
      }
    },
    {
      "cell_type": "code",
      "source": [
        "# Import PuLP\n",
        "from pulp import *\n",
        "\n",
        "# maximization problem\n",
        "prob = LpProblem(\"Exercício 1\", LpMaximize)\n",
        "\n",
        "# decision variables\n",
        "x1 = LpVariable(\"quantidade de esgoto U1\", 0, None, LpInteger)\n",
        "x2 = LpVariable(\"quantidade de esgoto U2\", 0, None, LpInteger)\n",
        "x3 = LpVariable(\"quantidade de esgoto U3\", 0, None, LpInteger)\n",
        "\n",
        "# objective function\n",
        "prob += 0.955 * x1 + 0.98 * x2 + 0.925 * x3, \"maximizar a eficiência total do tratamento\"\n",
        "\n",
        "# restrictions\n",
        "prob += x1 + x2 + x3 >= 300, \"A meta de tratamento do período do planejamento\"\n",
        "prob += 5 * x1 + 6 * x2 + 4 * x3 <= 1700, \"Recurso disponivel em reais\"\n",
        "prob += x1 <= 100, \"Capacidade de processamento U1\" \n",
        "prob += x2 <= 150, \"Capacidade de processamento U2\"\n",
        "prob += x3 <= 90,  \"Capacidade de processamento U3\"\n",
        "\n",
        "prob.writeLP(\"exercicio_1.lp\")\n",
        "with open('exercicio_1.lp') as arquivo:\n",
        "    for line in arquivo:\n",
        "        print(line, end='')\n",
        "\n",
        "# The problem is solved using PuLP's choice of Solver\n",
        "prob.solve()\n",
        "\n",
        "print(\"\\nResultado\\nStatus:\", LpStatus[prob.status])\n",
        "\n",
        "for v in prob.variables():\n",
        "    if v.varValue>0:\n",
        "        print(v.name, \"=\", v.varValue)\n",
        "\n",
        "obj = value(prob.objective)\n",
        "print(\"Quantidade total tratado: {} [ton]\".format(round(obj,2)))"
      ],
      "metadata": {
        "colab": {
          "base_uri": "https://localhost:8080/"
        },
        "id": "T7y22Qv6xZOr",
        "outputId": "5c8032fb-9387-4752-93b3-228c356cb347"
      },
      "execution_count": 46,
      "outputs": [
        {
          "output_type": "stream",
          "name": "stdout",
          "text": [
            "\\* Exercício_1 *\\\n",
            "Maximize\n",
            "maximizar_a_eficiência_total_do_tratamento: 0.955 quantidade_de_esgoto_U1\n",
            " + 0.98 quantidade_de_esgoto_U2 + 0.925 quantidade_de_esgoto_U3\n",
            "Subject To\n",
            "A_meta_de_tratamento_do_período_do_planejamento: quantidade_de_esgoto_U1\n",
            " + quantidade_de_esgoto_U2 + quantidade_de_esgoto_U3 >= 300\n",
            "Capacidade_de_processamento_U1: quantidade_de_esgoto_U1 <= 100\n",
            "Capacidade_de_processamento_U2: quantidade_de_esgoto_U2 <= 150\n",
            "Capacidade_de_processamento_U3: quantidade_de_esgoto_U3 <= 90\n",
            "Recurso_disponivel_em_reais: 5 quantidade_de_esgoto_U1\n",
            " + 6 quantidade_de_esgoto_U2 + 4 quantidade_de_esgoto_U3 <= 1700\n",
            "Bounds\n",
            " 0 <= quantidade_de_esgoto_U1\n",
            " 0 <= quantidade_de_esgoto_U2\n",
            " 0 <= quantidade_de_esgoto_U3\n",
            "Generals\n",
            "quantidade_de_esgoto_U1\n",
            "quantidade_de_esgoto_U2\n",
            "quantidade_de_esgoto_U3\n",
            "End\n",
            "\n",
            "Resultado\n",
            "Status: Optimal\n",
            "quantidade_de_esgoto_U1 = 100.0\n",
            "quantidade_de_esgoto_U2 = 140.0\n",
            "quantidade_de_esgoto_U3 = 90.0\n",
            "Quantidade total tratado: 315.95 [ton]\n"
          ]
        }
      ]
    },
    {
      "cell_type": "markdown",
      "source": [
        "#Exercício - 2\n",
        "Uma fábrica produz 3 tipos de produtos utilizando três tipos de recursos. Os\n",
        "parâmetros do problema estão apresentados na tabela a seguir:\n",
        "\n",
        "| Unidades de R em cada kg de P | P1 | P2 | P3 | Disponibilidade (unidades)|\n",
        "| ------------- | ------------- | ------------- |------------- |------------- |\n",
        "|R1|3|2|3|24|\n",
        "|R2|1|2|1|20|\n",
        "|R3|1|2|3|18|\n",
        "|$ Venda (por kg de P)|5|4|3| - |\n",
        "\n",
        "a) Quais as variáveis de decisão do modelo?\n",
        "\n",
        "b) Qual a função-objetivo que maximiza o valor total arrecadado com a venda dos\n",
        "produtos?\n",
        "\n",
        "c) Quais as restrições de disponibilidade dos recursos?\n",
        "\n",
        "d) Qual restrição apresenta: “A utilização diária do recurso R1 deve ser de no mínimo\n",
        "12 unidades”?\n",
        "\n",
        "e) Qual a restrição representa: “A quantidade produzida de P1 não pode ser menor\n",
        "do que a quantidade produzida de P3”?\n",
        "\n",
        "f) Qual restrição representa: “A quantidade produzida de P2 não pode ultrapassar a\n",
        "de P1 por mais de 2kg”?\n",
        "\n",
        "g) Qual restrição representa: “A quantidade produzida de P1 não pode ser maior do\n",
        "que a soma das quantidades produzidas de P2 e P3”?\n",
        "\n",
        "h) Qual restrição representa: “A produção de P1 deve ser de no mínimo 15kg”?\n"
      ],
      "metadata": {
        "id": "ZcSQg4RG8z9n"
      }
    },
    {
      "cell_type": "code",
      "source": [],
      "metadata": {
        "id": "cILj01zy971V"
      },
      "execution_count": 46,
      "outputs": []
    }
  ]
}