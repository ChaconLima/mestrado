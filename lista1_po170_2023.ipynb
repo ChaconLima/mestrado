{
  "nbformat": 4,
  "nbformat_minor": 0,
  "metadata": {
    "colab": {
      "provenance": [],
      "authorship_tag": "ABX9TyN3GutLgIAlA545zF/Ch2o1",
      "include_colab_link": true
    },
    "kernelspec": {
      "name": "python3",
      "display_name": "Python 3"
    },
    "language_info": {
      "name": "python"
    }
  },
  "cells": [
    {
      "cell_type": "markdown",
      "metadata": {
        "id": "view-in-github",
        "colab_type": "text"
      },
      "source": [
        "<a href=\"https://colab.research.google.com/github/ChaconLima/mestrado/blob/introdu%C3%A7%C3%A3o-a-pesquisa-operacional/lista1_po170_2023.ipynb\" target=\"_parent\"><img src=\"https://colab.research.google.com/assets/colab-badge.svg\" alt=\"Open In Colab\"/></a>"
      ]
    },
    {
      "cell_type": "code",
      "execution_count": null,
      "metadata": {
        "id": "dEkBLiVGp7YL"
      },
      "outputs": [],
      "source": [
        "# solver\n",
        "!pip install pulp\n",
        "\n",
        "#documentation - https://coin-or.github.io/pulp/index.html\n"
      ]
    },
    {
      "cell_type": "markdown",
      "source": [
        "A Cia. De Água e Esgoto de uma cidade possui 3 unidades de tratamento de esgotos, e\n",
        "cada uma delas está em um estágio de avanço tecnológico diferente. O estágio\n",
        "tecnológico faz com que custos, eficiências e capacidades sejam diferentes. A tabela a\n",
        "seguir, fornece os dados das unidades (U1, U2, U3).\n",
        "\n",
        "| Tabela | U1 | U2 | U3 |\n",
        "| ------------- | ------------- |------------- |------------- |\n",
        "| Custo de tratamento ($/ton)  | 5 | 6 | 4 |\n",
        "| Eficiência (%)  | 95,5 | 98,0 | 92,5 |\n",
        "| Capacidade de processamento (ton)| 100 | 150 | 150 |\n",
        "\n",
        "\n",
        "A Cia. precisa saber quanto de esgoto (em ton) deve ser encaminhado para cada unidade\n",
        "de tratamento de maneira a maximizar a eficiência total do tratamento. A meta do período\n",
        "do planejamento é tratar pelo menos 300 toneladas de esgoto, gastando no máximo\n",
        "$1.700. Quais as variáveis de decisão? Qual a função-objetivo? Quais as restrições do\n",
        "modelo?"
      ],
      "metadata": {
        "id": "STA3iLivvBuS"
      }
    },
    {
      "cell_type": "code",
      "source": [
        "# Import PuLP\n",
        "from pulp import *\n",
        "\n",
        "# maximization problem\n",
        "prob = LpProblem(\"Exercício 1\", LpMaximize)\n",
        "\n",
        "# decision variables\n",
        "x1 = LpVariable(\"quantidade de esgoto U1\", 0, None, LpInteger)\n",
        "x2 = LpVariable(\"quantidade de esgoto U2\", 0, None, LpInteger)\n",
        "x3 = LpVariable(\"quantidade de esgoto U3\", 0, None, LpInteger)\n",
        "\n",
        "# objective function\n",
        "prob += 95.5* x1 + 98 * x2 + 92.5 *x3, \"maximizar a eficiência total do tratamento\"\n",
        "\n",
        "# restrictions\n",
        "prob += x1 + x2 + x3 >= 300, \"A meta do período do planejamento é tratar pelo menos 300 toneladas de esgoto\"\n",
        "prob += 5 * x1 + 6 * x2 + 4 * x3 <= 1700, \"gastando no máximo $1.700.\"\n",
        "prob += x1 <= 100, \"Capacidade de processamento (ton) = 100\" \n",
        "prob += x2 <= 150, \"Capacidade de processamento (ton) = 150\"\n",
        "prob += x3 <= 90, \"Capacidade de processamento (ton) = 90\"\n",
        "\n",
        "# The problem is solved using PuLP's choice of Solver\n",
        "prob.solve()\n",
        "\n",
        "print(\"Status:\", LpStatus[prob.status])\n",
        "\n",
        "for v in prob.variables():\n",
        "    if v.varValue>0:\n",
        "        print(v.name, \"=\", v.varValue)\n",
        "\n",
        "obj = value(prob.objective)\n",
        "print(\"Quantidade total tratado: {} [ton]\".format(round(obj,2)))"
      ],
      "metadata": {
        "colab": {
          "base_uri": "https://localhost:8080/"
        },
        "id": "T7y22Qv6xZOr",
        "outputId": "12184538-35d1-4d71-d924-48d4451d924c"
      },
      "execution_count": 27,
      "outputs": [
        {
          "output_type": "stream",
          "name": "stdout",
          "text": [
            "Status: Optimal\n",
            "quantidade_de_esgoto_U1 = 100.0\n",
            "quantidade_de_esgoto_U2 = 140.0\n",
            "quantidade_de_esgoto_U3 = 90.0\n",
            "Quantidade total tratado: 31595.0 [ton]\n"
          ]
        }
      ]
    }
  ]
}