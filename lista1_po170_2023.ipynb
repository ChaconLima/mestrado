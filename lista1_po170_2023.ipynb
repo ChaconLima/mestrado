{
  "nbformat": 4,
  "nbformat_minor": 0,
  "metadata": {
    "colab": {
      "provenance": [],
      "authorship_tag": "ABX9TyPUPEE4hnTHGrlrSm+/vZ6u"
    },
    "kernelspec": {
      "name": "python3",
      "display_name": "Python 3"
    },
    "language_info": {
      "name": "python"
    }
  },
  "cells": [
    {
      "cell_type": "code",
      "execution_count": null,
      "metadata": {
        "id": "dEkBLiVGp7YL"
      },
      "outputs": [],
      "source": [
        "# solver\n",
        "!pip install pulp\n",
        "\n",
        "#documentation - https://coin-or.github.io/pulp/index.html\n"
      ]
    },
    {
      "cell_type": "markdown",
      "source": [
        "#Exercício - 1\n",
        "A Cia. De Água e Esgoto de uma cidade possui 3 unidades de tratamento de esgotos, e\n",
        "cada uma delas está em um estágio de avanço tecnológico diferente. O estágio\n",
        "tecnológico faz com que custos, eficiências e capacidades sejam diferentes. A tabela a\n",
        "seguir, fornece os dados das unidades (U1, U2, U3).\n",
        "\n",
        "| Tabela | U1 | U2 | U3 |\n",
        "| ------------- | ------------- |------------- |------------- |\n",
        "| Custo de tratamento ($/ton)  | 5 | 6 | 4 |\n",
        "| Eficiência (%)  | 95,5 | 98,0 | 92,5 |\n",
        "| Capacidade de processamento (ton)| 100 | 150 | 150 |\n",
        "\n",
        "\n",
        "A Cia. precisa saber quanto de esgoto (em ton) deve ser encaminhado para cada unidade\n",
        "de tratamento de maneira a maximizar a eficiência total do tratamento. A meta do período\n",
        "do planejamento é tratar pelo menos 300 toneladas de esgoto, gastando no máximo\n",
        "$1.700. Quais as variáveis de decisão? Qual a função-objetivo? Quais as restrições do\n",
        "modelo?"
      ],
      "metadata": {
        "id": "STA3iLivvBuS"
      }
    },
    {
      "cell_type": "code",
      "source": [
        "# Import PuLP\n",
        "from pulp import *\n",
        "\n",
        "# maximization problem\n",
        "prob = LpProblem(\"Exercício 1\", LpMaximize)\n",
        "\n",
        "# decision variables\n",
        "x1 = LpVariable(\"quantidade de esgoto U1\", 0, None, LpInteger)\n",
        "x2 = LpVariable(\"quantidade de esgoto U2\", 0, None, LpInteger)\n",
        "x3 = LpVariable(\"quantidade de esgoto U3\", 0, None, LpInteger)\n",
        "\n",
        "# objective function\n",
        "prob += 0.955 * x1 + 0.98 * x2 + 0.925 * x3, \"maximizar a eficiência total do tratamento\"\n",
        "\n",
        "# restrictions\n",
        "prob += x1 + x2 + x3 >= 300, \"A meta de tratamento do período do planejamento\"\n",
        "prob += 5 * x1 + 6 * x2 + 4 * x3 <= 1700, \"Recurso disponivel em reais\"\n",
        "prob += x1 <= 100, \"Capacidade de processamento U1\" \n",
        "prob += x2 <= 150, \"Capacidade de processamento U2\"\n",
        "prob += x3 <= 90,  \"Capacidade de processamento U3\"\n",
        "\n",
        "prob.writeLP(\"exercicio_1.lp\")\n",
        "with open('exercicio_1.lp') as arquivo:\n",
        "    for line in arquivo:\n",
        "        print(line, end='')\n",
        "\n",
        "# The problem is solved using PuLP's choice of Solver\n",
        "prob.solve()\n",
        "\n",
        "print(\"\\nResultado\\nStatus:\", LpStatus[prob.status])\n",
        "\n",
        "for v in prob.variables():\n",
        "    if v.varValue>0:\n",
        "        print(v.name, \"=\", v.varValue, \"[ton]\")\n",
        "\n",
        "obj = value(prob.objective)\n",
        "print(\"Quantidade total tratado: {} [ton]\".format(round(obj,2)))"
      ],
      "metadata": {
        "colab": {
          "base_uri": "https://localhost:8080/"
        },
        "id": "T7y22Qv6xZOr",
        "outputId": "c0b8f592-33ed-492a-f25a-d97bfd8f8d26"
      },
      "execution_count": 54,
      "outputs": [
        {
          "output_type": "stream",
          "name": "stdout",
          "text": [
            "\\* Exercício_1 *\\\n",
            "Maximize\n",
            "maximizar_a_eficiência_total_do_tratamento: 0.955 quantidade_de_esgoto_U1\n",
            " + 0.98 quantidade_de_esgoto_U2 + 0.925 quantidade_de_esgoto_U3\n",
            "Subject To\n",
            "A_meta_de_tratamento_do_período_do_planejamento: quantidade_de_esgoto_U1\n",
            " + quantidade_de_esgoto_U2 + quantidade_de_esgoto_U3 >= 300\n",
            "Capacidade_de_processamento_U1: quantidade_de_esgoto_U1 <= 100\n",
            "Capacidade_de_processamento_U2: quantidade_de_esgoto_U2 <= 150\n",
            "Capacidade_de_processamento_U3: quantidade_de_esgoto_U3 <= 90\n",
            "Recurso_disponivel_em_reais: 5 quantidade_de_esgoto_U1\n",
            " + 6 quantidade_de_esgoto_U2 + 4 quantidade_de_esgoto_U3 <= 1700\n",
            "Bounds\n",
            " 0 <= quantidade_de_esgoto_U1\n",
            " 0 <= quantidade_de_esgoto_U2\n",
            " 0 <= quantidade_de_esgoto_U3\n",
            "Generals\n",
            "quantidade_de_esgoto_U1\n",
            "quantidade_de_esgoto_U2\n",
            "quantidade_de_esgoto_U3\n",
            "End\n",
            "\n",
            "Resultado\n",
            "Status: Optimal\n",
            "quantidade_de_esgoto_U1 = 100.0 [ton]\n",
            "quantidade_de_esgoto_U2 = 140.0 [ton]\n",
            "quantidade_de_esgoto_U3 = 90.0 [ton]\n",
            "Quantidade total tratado: 315.95 [ton]\n"
          ]
        }
      ]
    },
    {
      "cell_type": "markdown",
      "source": [
        "#Exercício - 2\n",
        "Uma fábrica produz 3 tipos de produtos utilizando três tipos de recursos. Os\n",
        "parâmetros do problema estão apresentados na tabela a seguir:\n",
        "\n",
        "| Unidades de R em cada kg de P | P1 | P2 | P3 | Disponibilidade (unidades)|\n",
        "| ------------- | ------------- | ------------- |------------- |------------- |\n",
        "|R1|3|2|3|24|\n",
        "|R2|1|2|1|20|\n",
        "|R3|1|2|3|18|\n",
        "|$ Venda (por kg de P)|5|4|3| - |\n",
        "\n",
        "a) Quais as variáveis de decisão do modelo?\n",
        "\n",
        "b) Qual a função-objetivo que maximiza o valor total arrecadado com a venda dos\n",
        "produtos?\n",
        "\n",
        "c) Quais as restrições de disponibilidade dos recursos?\n",
        "\n",
        "d) Qual restrição apresenta: “A utilização diária do recurso R1 deve ser de no mínimo\n",
        "12 unidades”?\n",
        "\n",
        "e) Qual a restrição representa: “A quantidade produzida de P1 não pode ser menor\n",
        "do que a quantidade produzida de P3”?\n",
        "\n",
        "f) Qual restrição representa: “A quantidade produzida de P2 não pode ultrapassar a\n",
        "de P1 por mais de 2kg”?\n",
        "\n",
        "g) Qual restrição representa: “A quantidade produzida de P1 não pode ser maior do\n",
        "que a soma das quantidades produzidas de P2 e P3”?\n",
        "\n",
        "h) Qual restrição representa: “A produção de P1 deve ser de no mínimo 15kg”?\n"
      ],
      "metadata": {
        "id": "ZcSQg4RG8z9n"
      }
    },
    {
      "cell_type": "code",
      "source": [
        "# Import PuLP\n",
        "from pulp import *\n",
        "\n",
        "# maximization problem\n",
        "prob = LpProblem(\"Exercício 2\", LpMaximize)\n",
        "\n",
        "# decision variables\n",
        "x1 = LpVariable(\"qtd P1\", 0, None, LpContinuous)\n",
        "x2 = LpVariable(\"qtd P2\", 0, None, LpContinuous)\n",
        "x3 = LpVariable(\"qtd P3\", 0, None, LpContinuous)\n",
        "\n",
        "# objective function\n",
        "prob += 5 * x1 + 4 * x2 + 3 * x3, \"maximiza o valor total arrecadado com a venda dos produtos\"\n",
        "\n",
        "# restrictions\n",
        "prob += 3 * x1 + 2 * x2 + 3 * x3 <= 24, \"disponibilidade de R1\"\n",
        "prob += 1 * x1 + 2 * x2 + 1 * x3 <= 20, \"disponibilidade de R2\"\n",
        "prob += 1 * x1 + 2 * x2 + 3 * x3 <= 18, \"disponibilidade de R3\"\n",
        "prob += 3 * x1 + 2 * x2 + 3 * x3 >= 12, \"A utilização diária do recurso R1 deve ser de no mínimo 12 unidades\"\n",
        "prob += x3 <= x1, \"A quantidade produzida de P1 não pode ser menor do que a quantidade produzida de P3\"\n",
        "prob += x2 - x1 <= 2, \"A quantidade produzida de P2 não pode ultrapassar a de P1 por mais de 2kg\"\n",
        "prob += x2 + x3 >= x1, \"A quantidade produzida de P1 não pode ser maior do que a soma das quantidades produzidas de P2 e P3\"\n",
        "# prob += x1 >= 15, \"A produção de P1 deve ser de no mínimo 15kg\"\n",
        "\n",
        "prob.writeLP(\"exercicio_2.lp\")\n",
        "with open('exercicio_2.lp') as arquivo:\n",
        "    for line in arquivo:\n",
        "        print(line, end='')\n",
        "\n",
        "# The problem is solved using PuLP's choice of Solver\n",
        "prob.solve()\n",
        "\n",
        "print(\"\\nResultado\\nStatus:\", LpStatus[prob.status])\n",
        "\n",
        "for v in prob.variables():\n",
        "    if v.varValue>0:\n",
        "        print(v.name, \"=\", v.varValue, \"[kg]\")\n",
        "\n",
        "obj = value(prob.objective)\n",
        "print(\"Lucro total: R$ {}\".format(round(obj,2)))\n"
      ],
      "metadata": {
        "colab": {
          "base_uri": "https://localhost:8080/"
        },
        "id": "cILj01zy971V",
        "outputId": "60c3fc06-364e-461c-d1e9-b8f2cd9ebb97"
      },
      "execution_count": 65,
      "outputs": [
        {
          "output_type": "stream",
          "name": "stdout",
          "text": [
            "\\* Exercício_2 *\\\n",
            "Maximize\n",
            "maximiza_o_valor_total_arrecadado_com_a_venda_dos_produtos: 5 qtd_P1\n",
            " + 4 qtd_P2 + 3 qtd_P3\n",
            "Subject To\n",
            "A_quantidade_produzida_de_P1_não_pode_ser_maior_do_que_a_soma_das_quantidades_produzidas_de_P2_e_P3:\n",
            " - qtd_P1 + qtd_P2 + qtd_P3 >= 0\n",
            "A_quantidade_produzida_de_P1_não_pode_ser_menor_do_que_a_quantidade_produzida_de_P3:\n",
            " - qtd_P1 + qtd_P3 <= 0\n",
            "A_quantidade_produzida_de_P2_não_pode_ultrapassar_a_de_P1_por_mais_de_2kg:\n",
            " - qtd_P1 + qtd_P2 <= 2\n",
            "A_utilização_diária_do_recurso_R1_deve_ser_de_no_mínimo_12_unidades: 3 qtd_P1\n",
            " + 2 qtd_P2 + 3 qtd_P3 >= 12\n",
            "disponibilidade_de_R1: 3 qtd_P1 + 2 qtd_P2 + 3 qtd_P3 <= 24\n",
            "disponibilidade_de_R2: qtd_P1 + 2 qtd_P2 + qtd_P3 <= 20\n",
            "disponibilidade_de_R3: qtd_P1 + 2 qtd_P2 + 3 qtd_P3 <= 18\n",
            "End\n",
            "\n",
            "Resultado\n",
            "Status: Optimal\n",
            "qtd_P1 = 4.0 [kg]\n",
            "qtd_P2 = 6.0 [kg]\n",
            "Lucro total: R$ 44.0\n"
          ]
        }
      ]
    },
    {
      "cell_type": "markdown",
      "source": [
        "# Exercício 3\n",
        "O Centro de Promoção Social Municipal poderá oferecer 3 cursos de capacitação (C1,\n",
        "C2 e C3) no próximo semestre. O curso de informática (C1) pode ser oferecido para no\n",
        "máximo 50 pessoas. O curso de administração financeira (C2) poderá ser oferecido para\n",
        "no máximo 75 pessoas. O curso de culinária (C3) poderá ser oferecido para no máximo 45\n",
        "pessoas. O custo por pessoa em cada curso, pago pela prefeitura, é apresentado na tabela a\n",
        "seguir. O Centro, com o intuito de oferecer as vagas de acordo com o interesse da\n",
        "população, promoveu uma pesquisa de interesse. A tabela apresenta também a\n",
        "informação sobre o interesse da população em cada curso (quanto maior a nota, maior o\n",
        "interesse).\n",
        "\n",
        "| - | C1 | C2 | C3 |\n",
        "| ------------- | ------------- | ------------- |------------- |\n",
        "|Custo do curso ($/pessoa)|500|600|400|\n",
        "|Interesse|6|8|7|\n",
        "\n",
        "A meta da prefeitura é oferecer pelo menos 15 vagas, mas liberou ao Centro um\n",
        "orçamento de no máximo $75.000. O objetivo é decidir quantas vagas oferecer em cada\n",
        "curso, respeitando as restrições maximizando o interesse total. Quais as variáveis de\n",
        "decisão? Qual a função-objetivo? Quais as restrições?"
      ],
      "metadata": {
        "id": "sN2tQaVoGwul"
      }
    },
    {
      "cell_type": "code",
      "source": [
        "# Import PuLP\n",
        "from pulp import *\n",
        "\n",
        "# maximization problem\n",
        "prob = LpProblem(\"Exercício 3\", LpMaximize)\n",
        "\n",
        "# decision variables\n",
        "x1 = LpVariable(\"vagas C1\", 0, None, LpInteger)\n",
        "x2 = LpVariable(\"vagas C2\", 0, None, LpInteger)\n",
        "x3 = LpVariable(\"vagas C3\", 0, None, LpInteger)\n",
        "\n",
        "# objective function\n",
        "prob += 6 * x1 + 8 * x2 + 7 * x3, \"maximiza o valor total arrecadado com a venda dos produtos\"\n",
        "\n",
        "# restrictions\n",
        "prob += 500 * x1 + 600 * x2 + 400 * x3 <= 75000, \"orçamento de no máximo\"\n",
        "prob += x1 <= 50, \"maximo de vagas para C1\"\n",
        "prob += x2 <= 75, \"maximo de vagas para C2\"\n",
        "prob += x3 <= 45, \"maximo de vagas para C3\"\n",
        "prob += x1 + x2 + x3 >= 15, \"A meta da prefeitura é oferecer pelo menos 15 vagas\" \n",
        "\n",
        "prob.writeLP(\"exercicio_3.lp\")\n",
        "with open('exercicio_3.lp') as arquivo:\n",
        "    for line in arquivo:\n",
        "        print(line, end='')\n",
        "\n",
        "# The problem is solved using PuLP's choice of Solver\n",
        "prob.solve()\n",
        "\n",
        "print(\"\\nResultado\\nStatus:\", LpStatus[prob.status])\n",
        "\n",
        "for v in prob.variables():\n",
        "    if v.varValue>0:\n",
        "        print(v.name, \"=\", v.varValue, \"[vagas]\")\n",
        "\n",
        "obj = value(prob.objective)\n",
        "print(\"Interesse total: {}\".format(round(obj,2)))"
      ],
      "metadata": {
        "colab": {
          "base_uri": "https://localhost:8080/"
        },
        "id": "JJyJ6wo_JStH",
        "outputId": "b8bfc024-d8c6-4e40-e583-70332445d6b6"
      },
      "execution_count": 70,
      "outputs": [
        {
          "output_type": "stream",
          "name": "stdout",
          "text": [
            "\\* Exercício_3 *\\\n",
            "Maximize\n",
            "maximiza_o_valor_total_arrecadado_com_a_venda_dos_produtos: 6 vagas_C1\n",
            " + 8 vagas_C2 + 7 vagas_C3\n",
            "Subject To\n",
            "A_meta_da_prefeitura_é_oferecer_pelo_menos_15_vagas: vagas_C1 + vagas_C2\n",
            " + vagas_C3 >= 15\n",
            "maximo_de_vagas_para_C1: vagas_C1 <= 50\n",
            "maximo_de_vagas_para_C2: vagas_C2 <= 75\n",
            "maximo_de_vagas_para_C3: vagas_C3 <= 45\n",
            "orçamento_de_no_máximo: 500 vagas_C1 + 600 vagas_C2 + 400 vagas_C3 <= 75000\n",
            "Bounds\n",
            " 0 <= vagas_C1\n",
            " 0 <= vagas_C2\n",
            " 0 <= vagas_C3\n",
            "Generals\n",
            "vagas_C1\n",
            "vagas_C2\n",
            "vagas_C3\n",
            "End\n",
            "\n",
            "Resultado\n",
            "Status: Optimal\n",
            "vagas_C1 = 24.0 [vagas]\n",
            "vagas_C2 = 75.0 [vagas]\n",
            "vagas_C3 = 45.0 [vagas]\n",
            "Interesse total: 1059.0\n"
          ]
        }
      ]
    },
    {
      "cell_type": "markdown",
      "source": [
        "#Exercício 4\n",
        "\n",
        "Considere que você tenha 100 mil reais para investir. Há cinco possibilidades de\n",
        "investimento, cada um com um retorno e um risco associado (1-10) com risco 1 sendo o\n",
        "mais baixo:\n",
        "\n",
        "| Investimento | Retorno (%) | Risco |\n",
        "| ------------- | ------------- | ------------- |\n",
        "|1|9|3|\n",
        "|2|12|6|\n",
        "|3|15|8|\n",
        "|4|8|2|\n",
        "|5|6|1|\n",
        "\n",
        "Qualquer dinheiro não investido vai para uma conta-poupança com nenhum risco e\n",
        "retorno de 3%. O objetivo é alocar o dinheiro nos diversos tipos de investimentos de tal\n",
        "maneira a:\n",
        "\n",
        "a)Maximizar o retorno com reais.\n",
        "\n",
        "b)Tenha um risco total inferior a 5.\n",
        "\n",
        "c)Investir pelo menos 20% no investimento 4.\n",
        "\n",
        "d)A quantidade investida em 2 e 3 não deve ser maior do que a quantidade investida\n",
        "em 1.\n"
      ],
      "metadata": {
        "id": "Ck8MDw7pMd2d"
      }
    },
    {
      "cell_type": "code",
      "source": [
        "# Import PuLP\n",
        "from pulp import *\n",
        "\n",
        "# maximization problem\n",
        "prob = LpProblem(\"Exercício 4\", LpMaximize)"
      ],
      "metadata": {
        "id": "H4eR41vVNk6h"
      },
      "execution_count": null,
      "outputs": []
    },
    {
      "cell_type": "markdown",
      "source": [
        "# Exercício 5\n",
        "Uma companhia manufatura quatro produtos em duas máquinas. O tempo de\n",
        "processamento (em minutos) para processar cada produto em cada máquina é mostrado\n",
        "abaixo:\n",
        "\n",
        "| Produto | Máquina 1 | Máquina 2 |\n",
        "| ------------- | ------------- | ------------- |\n",
        "|1|10|27|\n",
        "|2|12|19|\n",
        "|3|13|33|\n",
        "|4|8|23|\n",
        "\n",
        "O lucro por unidade de cada produto é de R$ 30, R$ 36, R$ 51 e R$ 24, respectivamente.\n",
        "Os produtos passam por ambas as máquinas, em uma linha de produção. A fábrica é\n",
        "pequena e isto significa que o espaço é pequeno. A produção de uma semana é\n",
        "armazenada em um espaço de 50 metros quadrados onde o espaço que cada produto toma\n",
        "é 0.1, 0.15, 0.5 e 0.05 metros quadrados para os produtos 1, 2, 3 e 4, respectivamente. Por\n",
        "condições de mercado, a produção do produto 2 deve ser duas vezes a produção do\n",
        "produto 3. A máquina 1 fica parada (para manutenção) 5% do tempo e a máquina 2 fica\n",
        "parada 7% do tempo. Assumindo uma semana de 40 horas, formule o problema de\n",
        "produzir estes produtos afim de maximizar o lucro.\n",
        "\n"
      ],
      "metadata": {
        "id": "PEQjKiloN8H_"
      }
    },
    {
      "cell_type": "code",
      "source": [
        "# Import PuLP\n",
        "from pulp import *\n",
        "\n",
        "# maximization problem\n",
        "prob = LpProblem(\"Exercício 5\", LpMaximize)\n",
        "\n",
        "# decision variables\n",
        "x1 = LpVariable(\"qte P1\", 0, None, LpInteger)\n",
        "x2 = LpVariable(\"qte P2\", 0, None, LpInteger)\n",
        "x3 = LpVariable(\"qte P3\", 0, None, LpInteger)\n",
        "x4 = LpVariable(\"qte P4\", 0, None, LpInteger)\n",
        "\n",
        "# objective function\n",
        "prob += 30 * x1 + 36 * x2 + 51 * x3 + 24 * x4, \"problema de produzir estes produtos afim de maximizar o lucro\"\n",
        "\n",
        "# restrictions\n",
        "prob += 0.1 * x1 + 0.15 * x2 + 0.5 * x3 + 0.05 * x4 <= 50, \"espaço de 50 metros quadrados\"\n",
        "prob += x2 == 2 * x3, \"a produção do produto 2 deve ser duas vezes a produção do produto 3.\" \n",
        "prob += 10 * x1 + 12 * x2 + 13 * x3 + 8 * x4 <= 2280, \"máquina 1 fica parada 5% do tempo\"\n",
        "prob += 27 * x1 + 19 * x2 + 33 * x3 + 23 * x4 <= 2232, \"máquina 2 fica parada 7% do tempo\"\n",
        "\n",
        "prob.writeLP(\"exercicio_5.lp\")\n",
        "with open('exercicio_5.lp') as arquivo:\n",
        "    for line in arquivo:\n",
        "        print(line, end='')\n",
        "\n",
        "# The problem is solved using PuLP's choice of Solver\n",
        "prob.solve()\n",
        "\n",
        "print(\"\\nResultado\\nStatus:\", LpStatus[prob.status])\n",
        "\n",
        "for v in prob.variables():\n",
        "    if v.varValue>0:\n",
        "        print(v.name, \"=\", v.varValue, \"[unidades]\")\n",
        "\n",
        "obj = value(prob.objective)\n",
        "print(\"Lucro total: R$ {}\".format(round(obj,2)))\n"
      ],
      "metadata": {
        "colab": {
          "base_uri": "https://localhost:8080/"
        },
        "id": "Ps1JZuiAOlkR",
        "outputId": "563c0b53-096a-41de-b4ee-7b7d4b973d88"
      },
      "execution_count": 72,
      "outputs": [
        {
          "output_type": "stream",
          "name": "stdout",
          "text": [
            "\\* Exercício_5 *\\\n",
            "Maximize\n",
            "problema_de_produzir_estes_produtos_afim_de_maximizar_o_lucro: 30 qte_P1\n",
            " + 36 qte_P2 + 51 qte_P3 + 24 qte_P4\n",
            "Subject To\n",
            "a_produção_do_produto_2_deve_ser_duas_vezes_a_produção_do_produto_3.: qte_P2\n",
            " - 2 qte_P3 = 0\n",
            "espaço_de_50_metros_quadrados: 0.1 qte_P1 + 0.15 qte_P2 + 0.5 qte_P3\n",
            " + 0.05 qte_P4 <= 50\n",
            "máquina_1_fica_parada_5%_do_tempo: 10 qte_P1 + 12 qte_P2 + 13 qte_P3\n",
            " + 8 qte_P4 <= 2280\n",
            "máquina_2_fica_parada_7%_do_tempo: 27 qte_P1 + 19 qte_P2 + 33 qte_P3\n",
            " + 23 qte_P4 <= 2232\n",
            "Bounds\n",
            " 0 <= qte_P1\n",
            " 0 <= qte_P2\n",
            " 0 <= qte_P3\n",
            " 0 <= qte_P4\n",
            "Generals\n",
            "qte_P1\n",
            "qte_P2\n",
            "qte_P3\n",
            "qte_P4\n",
            "End\n",
            "\n",
            "Resultado\n",
            "Status: Optimal\n",
            "qte_P1 = 1.0 [unidades]\n",
            "qte_P2 = 62.0 [unidades]\n",
            "qte_P3 = 31.0 [unidades]\n",
            "Lucro total: R$ 3843.0\n"
          ]
        }
      ]
    }
  ]
}