{
  "nbformat": 4,
  "nbformat_minor": 0,
  "metadata": {
    "colab": {
      "provenance": [],
      "authorship_tag": "ABX9TyMLnHTeEmJYk+9gqEKrT67K",
      "include_colab_link": true
    },
    "kernelspec": {
      "name": "python3",
      "display_name": "Python 3"
    },
    "language_info": {
      "name": "python"
    }
  },
  "cells": [
    {
      "cell_type": "markdown",
      "metadata": {
        "id": "view-in-github",
        "colab_type": "text"
      },
      "source": [
        "<a href=\"https://colab.research.google.com/github/ChaconLima/mestrado/blob/introdu%C3%A7%C3%A3o-a-pesquisa-operacional/lista1_po170_2023.ipynb\" target=\"_parent\"><img src=\"https://colab.research.google.com/assets/colab-badge.svg\" alt=\"Open In Colab\"/></a>"
      ]
    },
    {
      "cell_type": "code",
      "execution_count": null,
      "metadata": {
        "id": "dEkBLiVGp7YL"
      },
      "outputs": [],
      "source": [
        "# solver\n",
        "!pip install pulp\n"
      ]
    },
    {
      "cell_type": "code",
      "source": [
        "# Exemplo_1\n",
        "\n",
        "# Import PuLP modeler functions\n",
        "from pulp import *\n",
        "\n",
        "\n",
        "prob = LpProblem(\"The Whiskas Problem\", LpMinimize)\n",
        "\n",
        "# The 2 variables Beef and Chicken are created with a lower limit of zero\n",
        "x1 = LpVariable(\"ChickenPercent\", 0, None, LpInteger)\n",
        "x2 = LpVariable(\"BeefPercent\", 0)\n",
        "\n",
        "# The objective function is added to 'prob' first\n",
        "prob += 0.013 * x1 + 0.008 * x2, \"Total Cost of Ingredients per can\"\n",
        "\n",
        "\n",
        "# The five constraints are entered\n",
        "prob += x1 + x2 == 100, \"PercentagesSum\"\n",
        "prob += 0.100 * x1 + 0.200 * x2 >= 8.0, \"ProteinRequirement\"\n",
        "prob += 0.080 * x1 + 0.100 * x2 >= 6.0, \"FatRequirement\"\n",
        "prob += 0.001 * x1 + 0.005 * x2 <= 2.0, \"FibreRequirement\"\n",
        "prob += 0.002 * x1 + 0.005 * x2 <= 0.4, \"SaltRequirement\"\n",
        "\n",
        "\n",
        "# The problem is solved using PuLP's choice of Solver\n",
        "prob.solve()\n",
        "\n",
        "print(\"Status:\", LpStatus[prob.status])\n",
        "\n",
        "for v in prob.variables():\n",
        "    if v.varValue>0:\n",
        "        print(v.name, \"=\", v.varValue)\n",
        "\n",
        "obj = value(prob.objective)\n",
        "print(\"The total cost of this balanced diet is: ${}\".format(round(obj,2)))"
      ],
      "metadata": {
        "colab": {
          "base_uri": "https://localhost:8080/"
        },
        "id": "qJub4kVnrT5k",
        "outputId": "bf1d55fe-efcd-4b74-92c8-a8a702434cdf"
      },
      "execution_count": 14,
      "outputs": [
        {
          "output_type": "stream",
          "name": "stdout",
          "text": [
            "Status: Optimal\n",
            "BeefPercent = 66.0\n",
            "ChickenPercent = 34.0\n",
            "The total cost of this balanced diet is: $0.97\n"
          ]
        }
      ]
    }
  ]
}