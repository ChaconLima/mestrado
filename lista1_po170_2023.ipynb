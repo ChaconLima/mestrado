{
  "nbformat": 4,
  "nbformat_minor": 0,
  "metadata": {
    "colab": {
      "provenance": [],
      "authorship_tag": "ABX9TyMIqVJuZ8didQkqY7w+z3uG",
      "include_colab_link": true
    },
    "kernelspec": {
      "name": "python3",
      "display_name": "Python 3"
    },
    "language_info": {
      "name": "python"
    }
  },
  "cells": [
    {
      "cell_type": "markdown",
      "metadata": {
        "id": "view-in-github",
        "colab_type": "text"
      },
      "source": [
        "<a href=\"https://colab.research.google.com/github/ChaconLima/mestrado/blob/introdu%C3%A7%C3%A3o-a-pesquisa-operacional/lista1_po170_2023.ipynb\" target=\"_parent\"><img src=\"https://colab.research.google.com/assets/colab-badge.svg\" alt=\"Open In Colab\"/></a>"
      ]
    },
    {
      "cell_type": "code",
      "execution_count": null,
      "metadata": {
        "id": "dEkBLiVGp7YL"
      },
      "outputs": [],
      "source": [
        "# solver\n",
        "!pip install pulp\n",
        "\n",
        "#documentation - https://coin-or.github.io/pulp/index.html\n"
      ]
    },
    {
      "cell_type": "markdown",
      "source": [
        "#Exercício - 1\n",
        "A Cia. De Água e Esgoto de uma cidade possui 3 unidades de tratamento de esgotos, e\n",
        "cada uma delas está em um estágio de avanço tecnológico diferente. O estágio\n",
        "tecnológico faz com que custos, eficiências e capacidades sejam diferentes. A tabela a\n",
        "seguir, fornece os dados das unidades (U1, U2, U3).\n",
        "\n",
        "| Tabela | U1 | U2 | U3 |\n",
        "| ------------- | ------------- |------------- |------------- |\n",
        "| Custo de tratamento ($/ton)  | 5 | 6 | 4 |\n",
        "| Eficiência (%)  | 95,5 | 98,0 | 92,5 |\n",
        "| Capacidade de processamento (ton)| 100 | 150 | 150 |\n",
        "\n",
        "\n",
        "A Cia. precisa saber quanto de esgoto (em ton) deve ser encaminhado para cada unidade\n",
        "de tratamento de maneira a maximizar a eficiência total do tratamento. A meta do período\n",
        "do planejamento é tratar pelo menos 300 toneladas de esgoto, gastando no máximo\n",
        "$1.700. Quais as variáveis de decisão? Qual a função-objetivo? Quais as restrições do\n",
        "modelo?"
      ],
      "metadata": {
        "id": "STA3iLivvBuS"
      }
    },
    {
      "cell_type": "code",
      "source": [
        "# Import PuLP\n",
        "from pulp import *\n",
        "\n",
        "# maximization problem\n",
        "prob = LpProblem(\"Exercício 1\", LpMaximize)\n",
        "\n",
        "# decision variables\n",
        "x1 = LpVariable(\"quantidade de esgoto U1\", 0, None, LpInteger)\n",
        "x2 = LpVariable(\"quantidade de esgoto U2\", 0, None, LpInteger)\n",
        "x3 = LpVariable(\"quantidade de esgoto U3\", 0, None, LpInteger)\n",
        "\n",
        "# objective function\n",
        "prob += 0.955 * x1 + 0.98 * x2 + 0.925 * x3, \"maximizar a eficiência total do tratamento\"\n",
        "\n",
        "# restrictions\n",
        "prob += x1 + x2 + x3 >= 300, \"A meta de tratamento do período do planejamento\"\n",
        "prob += 5 * x1 + 6 * x2 + 4 * x3 <= 1700, \"Recurso disponivel em reais\"\n",
        "prob += x1 <= 100, \"Capacidade de processamento U1\" \n",
        "prob += x2 <= 150, \"Capacidade de processamento U2\"\n",
        "prob += x3 <= 90,  \"Capacidade de processamento U3\"\n",
        "\n",
        "prob.writeLP(\"exercicio_1.lp\")\n",
        "with open('exercicio_1.lp') as arquivo:\n",
        "    for line in arquivo:\n",
        "        print(line, end='')\n",
        "\n",
        "# The problem is solved using PuLP's choice of Solver\n",
        "prob.solve()\n",
        "\n",
        "print(\"\\nResultado\\nStatus:\", LpStatus[prob.status])\n",
        "\n",
        "for v in prob.variables():\n",
        "    if v.varValue>0:\n",
        "        print(v.name, \"=\", v.varValue, \"[ton]\")\n",
        "\n",
        "obj = value(prob.objective)\n",
        "print(\"Quantidade total tratado: {} [ton]\".format(round(obj,2)))"
      ],
      "metadata": {
        "colab": {
          "base_uri": "https://localhost:8080/"
        },
        "id": "T7y22Qv6xZOr",
        "outputId": "c0b8f592-33ed-492a-f25a-d97bfd8f8d26"
      },
      "execution_count": 54,
      "outputs": [
        {
          "output_type": "stream",
          "name": "stdout",
          "text": [
            "\\* Exercício_1 *\\\n",
            "Maximize\n",
            "maximizar_a_eficiência_total_do_tratamento: 0.955 quantidade_de_esgoto_U1\n",
            " + 0.98 quantidade_de_esgoto_U2 + 0.925 quantidade_de_esgoto_U3\n",
            "Subject To\n",
            "A_meta_de_tratamento_do_período_do_planejamento: quantidade_de_esgoto_U1\n",
            " + quantidade_de_esgoto_U2 + quantidade_de_esgoto_U3 >= 300\n",
            "Capacidade_de_processamento_U1: quantidade_de_esgoto_U1 <= 100\n",
            "Capacidade_de_processamento_U2: quantidade_de_esgoto_U2 <= 150\n",
            "Capacidade_de_processamento_U3: quantidade_de_esgoto_U3 <= 90\n",
            "Recurso_disponivel_em_reais: 5 quantidade_de_esgoto_U1\n",
            " + 6 quantidade_de_esgoto_U2 + 4 quantidade_de_esgoto_U3 <= 1700\n",
            "Bounds\n",
            " 0 <= quantidade_de_esgoto_U1\n",
            " 0 <= quantidade_de_esgoto_U2\n",
            " 0 <= quantidade_de_esgoto_U3\n",
            "Generals\n",
            "quantidade_de_esgoto_U1\n",
            "quantidade_de_esgoto_U2\n",
            "quantidade_de_esgoto_U3\n",
            "End\n",
            "\n",
            "Resultado\n",
            "Status: Optimal\n",
            "quantidade_de_esgoto_U1 = 100.0 [ton]\n",
            "quantidade_de_esgoto_U2 = 140.0 [ton]\n",
            "quantidade_de_esgoto_U3 = 90.0 [ton]\n",
            "Quantidade total tratado: 315.95 [ton]\n"
          ]
        }
      ]
    },
    {
      "cell_type": "markdown",
      "source": [
        "#Exercício - 2\n",
        "Uma fábrica produz 3 tipos de produtos utilizando três tipos de recursos. Os\n",
        "parâmetros do problema estão apresentados na tabela a seguir:\n",
        "\n",
        "| Unidades de R em cada kg de P | P1 | P2 | P3 | Disponibilidade (unidades)|\n",
        "| ------------- | ------------- | ------------- |------------- |------------- |\n",
        "|R1|3|2|3|24|\n",
        "|R2|1|2|1|20|\n",
        "|R3|1|2|3|18|\n",
        "|$ Venda (por kg de P)|5|4|3| - |\n",
        "\n",
        "a) Quais as variáveis de decisão do modelo?\n",
        "\n",
        "b) Qual a função-objetivo que maximiza o valor total arrecadado com a venda dos\n",
        "produtos?\n",
        "\n",
        "c) Quais as restrições de disponibilidade dos recursos?\n",
        "\n",
        "d) Qual restrição apresenta: “A utilização diária do recurso R1 deve ser de no mínimo\n",
        "12 unidades”?\n",
        "\n",
        "e) Qual a restrição representa: “A quantidade produzida de P1 não pode ser menor\n",
        "do que a quantidade produzida de P3”?\n",
        "\n",
        "f) Qual restrição representa: “A quantidade produzida de P2 não pode ultrapassar a\n",
        "de P1 por mais de 2kg”?\n",
        "\n",
        "g) Qual restrição representa: “A quantidade produzida de P1 não pode ser maior do\n",
        "que a soma das quantidades produzidas de P2 e P3”?\n",
        "\n",
        "h) Qual restrição representa: “A produção de P1 deve ser de no mínimo 15kg”?\n"
      ],
      "metadata": {
        "id": "ZcSQg4RG8z9n"
      }
    },
    {
      "cell_type": "code",
      "source": [
        "# Import PuLP\n",
        "from pulp import *\n",
        "\n",
        "# maximization problem\n",
        "prob = LpProblem(\"Exercício 2\", LpMaximize)\n",
        "\n",
        "# decision variables\n",
        "x1 = LpVariable(\"qtd P1\", 0, None, LpContinuous)\n",
        "x2 = LpVariable(\"qtd P2\", 0, None, LpContinuous)\n",
        "x3 = LpVariable(\"qtd P3\", 0, None, LpContinuous)\n",
        "\n",
        "# objective function\n",
        "prob += 5 * x1 + 4 * x2 + 3 * x3, \"maximiza o valor total arrecadado com a venda dos produtos\"\n",
        "\n",
        "# restrictions\n",
        "prob += 3 * x1 + 2 * x2 + 3 * x3 <= 24, \"disponibilidade de R1\"\n",
        "prob += 1 * x1 + 2 * x2 + 1 * x3 <= 20, \"disponibilidade de R2\"\n",
        "prob += 1 * x1 + 2 * x2 + 3 * x3 <= 18, \"disponibilidade de R3\"\n",
        "prob += 3 * x1 + 2 * x2 + 3 * x3 >= 12, \"A utilização diária do recurso R1 deve ser de no mínimo 12 unidades\"\n",
        "prob += x3 <= x1, \"A quantidade produzida de P1 não pode ser menor do que a quantidade produzida de P3\"\n",
        "prob += x2 - x1 <= 2, \"A quantidade produzida de P2 não pode ultrapassar a de P1 por mais de 2kg\"\n",
        "prob += x2 + x3 >= x1, \"A quantidade produzida de P1 não pode ser maior do que a soma das quantidades produzidas de P2 e P3\"\n",
        "# prob += x1 >= 15, \"A produção de P1 deve ser de no mínimo 15kg\"\n",
        "\n",
        "prob.writeLP(\"exercicio_2.lp\")\n",
        "with open('exercicio_2.lp') as arquivo:\n",
        "    for line in arquivo:\n",
        "        print(line, end='')\n",
        "\n",
        "# The problem is solved using PuLP's choice of Solver\n",
        "prob.solve()\n",
        "\n",
        "print(\"\\nResultado\\nStatus:\", LpStatus[prob.status])\n",
        "\n",
        "for v in prob.variables():\n",
        "    if v.varValue>0:\n",
        "        print(v.name, \"=\", v.varValue, \"[kg]\")\n",
        "\n",
        "obj = value(prob.objective)\n",
        "print(\"Lucro total: R$ {}\".format(round(obj,2)))\n"
      ],
      "metadata": {
        "colab": {
          "base_uri": "https://localhost:8080/"
        },
        "id": "cILj01zy971V",
        "outputId": "60c3fc06-364e-461c-d1e9-b8f2cd9ebb97"
      },
      "execution_count": 65,
      "outputs": [
        {
          "output_type": "stream",
          "name": "stdout",
          "text": [
            "\\* Exercício_2 *\\\n",
            "Maximize\n",
            "maximiza_o_valor_total_arrecadado_com_a_venda_dos_produtos: 5 qtd_P1\n",
            " + 4 qtd_P2 + 3 qtd_P3\n",
            "Subject To\n",
            "A_quantidade_produzida_de_P1_não_pode_ser_maior_do_que_a_soma_das_quantidades_produzidas_de_P2_e_P3:\n",
            " - qtd_P1 + qtd_P2 + qtd_P3 >= 0\n",
            "A_quantidade_produzida_de_P1_não_pode_ser_menor_do_que_a_quantidade_produzida_de_P3:\n",
            " - qtd_P1 + qtd_P3 <= 0\n",
            "A_quantidade_produzida_de_P2_não_pode_ultrapassar_a_de_P1_por_mais_de_2kg:\n",
            " - qtd_P1 + qtd_P2 <= 2\n",
            "A_utilização_diária_do_recurso_R1_deve_ser_de_no_mínimo_12_unidades: 3 qtd_P1\n",
            " + 2 qtd_P2 + 3 qtd_P3 >= 12\n",
            "disponibilidade_de_R1: 3 qtd_P1 + 2 qtd_P2 + 3 qtd_P3 <= 24\n",
            "disponibilidade_de_R2: qtd_P1 + 2 qtd_P2 + qtd_P3 <= 20\n",
            "disponibilidade_de_R3: qtd_P1 + 2 qtd_P2 + 3 qtd_P3 <= 18\n",
            "End\n",
            "\n",
            "Resultado\n",
            "Status: Optimal\n",
            "qtd_P1 = 4.0 [kg]\n",
            "qtd_P2 = 6.0 [kg]\n",
            "Lucro total: R$ 44.0\n"
          ]
        }
      ]
    }
  ]
}